{
 "cells": [
  {
   "cell_type": "markdown",
   "id": "575f9924-9e81-4f32-9686-9dfd8825d2e4",
   "metadata": {
    "tags": []
   },
   "source": [
    "<h1><center> United States Election 2020: Data Analysis based on Social Characterisitcs </center></h1>\n",
    "<h4><center>Maksym Oliinyk, 1004506377 <br> Big Data Tools for Economists (ECO225H1 S)</center></h4>\n",
    "\n",
    "---\n",
    "<h2><bold> Outline: </bold></h2>\n",
    "\n",
    "1. Introduction  \n",
    "2. Data Analysis \n",
    "3. Summary \n",
    "4. Future Steps \n",
    "\n",
    "\n"
   ]
  },
  {
   "cell_type": "markdown",
   "id": "c7ec555e-6a7c-4fd8-b4bb-8c6ef8401f05",
   "metadata": {
    "tags": []
   },
   "source": [
    "<h2><center> Introduction </center></h2>\n",
    "\n",
    "---"
   ]
  },
  {
   "cell_type": "markdown",
   "id": "305c9805-ab9b-4d42-8ca7-ef6f5eb0891a",
   "metadata": {},
   "source": []
  },
  {
   "cell_type": "markdown",
   "id": "f96428ff-7a34-4485-811e-b7d674fb82f8",
   "metadata": {},
   "source": [
    "<h2><center> Data Analysis </center></h2> \n",
    "\n",
    "---"
   ]
  },
  {
   "cell_type": "markdown",
   "id": "f7271918-2bec-4d82-867e-65e8f6f55a05",
   "metadata": {},
   "source": [
    "<h3><center> Top Five presidential candidates based on the total votes </center></h3> \n",
    "\n",
    "\n"
   ]
  },
  {
   "cell_type": "code",
   "execution_count": 2,
   "id": "14061426-1c51-4cb0-a185-6aa1095b4e63",
   "metadata": {},
   "outputs": [],
   "source": [
    "import pandas as pd\n",
    "import numpy as np\n",
    "import matplotlib.pyplot as plt"
   ]
  },
  {
   "cell_type": "code",
   "execution_count": 3,
   "id": "712b16e9-18e9-48b5-ac85-fe6287d9c0ba",
   "metadata": {},
   "outputs": [],
   "source": [
    "df_president =  pd.read_csv(r\"/Users/maximolii/Desktop/UofT/Years/Fourth Year/2/ECO225/Project/ECO225Project/Data/president_county_candidate.csv\")\n",
    "df_president_turnout = pd.read_csv(r\"/Users/maximolii/Desktop/UofT/Years/Fourth Year/2/ECO225/Project/ECO225Project/Data/president_counties.csv\")"
   ]
  },
  {
   "cell_type": "code",
   "execution_count": 4,
   "id": "9477b4f7-a295-45e4-8979-6dd87fd2d638",
   "metadata": {},
   "outputs": [
    {
     "data": {
      "text/html": [
       "<div>\n",
       "<style scoped>\n",
       "    .dataframe tbody tr th:only-of-type {\n",
       "        vertical-align: middle;\n",
       "    }\n",
       "\n",
       "    .dataframe tbody tr th {\n",
       "        vertical-align: top;\n",
       "    }\n",
       "\n",
       "    .dataframe thead th {\n",
       "        text-align: right;\n",
       "    }\n",
       "</style>\n",
       "<table border=\"1\" class=\"dataframe\">\n",
       "  <thead>\n",
       "    <tr style=\"text-align: right;\">\n",
       "      <th></th>\n",
       "      <th>state</th>\n",
       "      <th>county</th>\n",
       "      <th>candidate</th>\n",
       "      <th>party</th>\n",
       "      <th>total_votes</th>\n",
       "      <th>won</th>\n",
       "    </tr>\n",
       "  </thead>\n",
       "  <tbody>\n",
       "    <tr>\n",
       "      <th>0</th>\n",
       "      <td>Delaware</td>\n",
       "      <td>Kent County</td>\n",
       "      <td>Joe Biden</td>\n",
       "      <td>DEM</td>\n",
       "      <td>44552</td>\n",
       "      <td>True</td>\n",
       "    </tr>\n",
       "    <tr>\n",
       "      <th>1</th>\n",
       "      <td>Delaware</td>\n",
       "      <td>Kent County</td>\n",
       "      <td>Donald Trump</td>\n",
       "      <td>REP</td>\n",
       "      <td>41009</td>\n",
       "      <td>False</td>\n",
       "    </tr>\n",
       "    <tr>\n",
       "      <th>2</th>\n",
       "      <td>Delaware</td>\n",
       "      <td>Kent County</td>\n",
       "      <td>Jo Jorgensen</td>\n",
       "      <td>LIB</td>\n",
       "      <td>1044</td>\n",
       "      <td>False</td>\n",
       "    </tr>\n",
       "    <tr>\n",
       "      <th>3</th>\n",
       "      <td>Delaware</td>\n",
       "      <td>Kent County</td>\n",
       "      <td>Howie Hawkins</td>\n",
       "      <td>GRN</td>\n",
       "      <td>420</td>\n",
       "      <td>False</td>\n",
       "    </tr>\n",
       "    <tr>\n",
       "      <th>4</th>\n",
       "      <td>Delaware</td>\n",
       "      <td>New Castle County</td>\n",
       "      <td>Joe Biden</td>\n",
       "      <td>DEM</td>\n",
       "      <td>195034</td>\n",
       "      <td>True</td>\n",
       "    </tr>\n",
       "  </tbody>\n",
       "</table>\n",
       "</div>"
      ],
      "text/plain": [
       "      state             county      candidate party  total_votes    won\n",
       "0  Delaware        Kent County      Joe Biden   DEM        44552   True\n",
       "1  Delaware        Kent County   Donald Trump   REP        41009  False\n",
       "2  Delaware        Kent County   Jo Jorgensen   LIB         1044  False\n",
       "3  Delaware        Kent County  Howie Hawkins   GRN          420  False\n",
       "4  Delaware  New Castle County      Joe Biden   DEM       195034   True"
      ]
     },
     "execution_count": 4,
     "metadata": {},
     "output_type": "execute_result"
    }
   ],
   "source": [
    "df_president.head(5)"
   ]
  },
  {
   "cell_type": "code",
   "execution_count": 5,
   "id": "525405a9-a31d-45e8-97ad-7b53bc0e1d1d",
   "metadata": {},
   "outputs": [
    {
     "data": {
      "text/html": [
       "<div>\n",
       "<style scoped>\n",
       "    .dataframe tbody tr th:only-of-type {\n",
       "        vertical-align: middle;\n",
       "    }\n",
       "\n",
       "    .dataframe tbody tr th {\n",
       "        vertical-align: top;\n",
       "    }\n",
       "\n",
       "    .dataframe thead th {\n",
       "        text-align: right;\n",
       "    }\n",
       "</style>\n",
       "<table border=\"1\" class=\"dataframe\">\n",
       "  <thead>\n",
       "    <tr style=\"text-align: right;\">\n",
       "      <th></th>\n",
       "      <th>candidate</th>\n",
       "      <th>total_votes</th>\n",
       "    </tr>\n",
       "  </thead>\n",
       "  <tbody>\n",
       "    <tr>\n",
       "      <th>0</th>\n",
       "      <td>Joe Biden</td>\n",
       "      <td>82046434</td>\n",
       "    </tr>\n",
       "    <tr>\n",
       "      <th>1</th>\n",
       "      <td>Donald Trump</td>\n",
       "      <td>74585705</td>\n",
       "    </tr>\n",
       "    <tr>\n",
       "      <th>2</th>\n",
       "      <td>Jo Jorgensen</td>\n",
       "      <td>1874183</td>\n",
       "    </tr>\n",
       "    <tr>\n",
       "      <th>3</th>\n",
       "      <td>Howie Hawkins</td>\n",
       "      <td>404835</td>\n",
       "    </tr>\n",
       "    <tr>\n",
       "      <th>4</th>\n",
       "      <td>Write-ins</td>\n",
       "      <td>254274</td>\n",
       "    </tr>\n",
       "  </tbody>\n",
       "</table>\n",
       "</div>"
      ],
      "text/plain": [
       "       candidate  total_votes\n",
       "0      Joe Biden     82046434\n",
       "1   Donald Trump     74585705\n",
       "2   Jo Jorgensen      1874183\n",
       "3  Howie Hawkins       404835\n",
       "4      Write-ins       254274"
      ]
     },
     "execution_count": 5,
     "metadata": {},
     "output_type": "execute_result"
    }
   ],
   "source": [
    "df_winners = df_president[['candidate','total_votes']].groupby(['candidate'], as_index = False).sum()\n",
    "df_winners = df_winners.sort_values(by = \"total_votes\", ascending = False)\n",
    "df_winners = df_winners.reset_index(drop = True)\n",
    "df_winners = df_winners.head(5)\n",
    "\n",
    "df_winners"
   ]
  },
  {
   "cell_type": "code",
   "execution_count": 6,
   "id": "6e9d42e0-db81-4d09-a1bf-297406430ca7",
   "metadata": {},
   "outputs": [],
   "source": [
    "df_winners[\"percent\"] = df_winners[\"total_votes\"] / df_winners[\"total_votes\"].sum() * 100"
   ]
  },
  {
   "cell_type": "code",
   "execution_count": 7,
   "id": "eba8a727-d221-4cd0-a16c-6081b6f331f2",
   "metadata": {},
   "outputs": [
    {
     "data": {
      "image/png": "[encoded data removed]",
      "text/plain": [
       "<Figure size 1008x504 with 1 Axes>"
      ]
     },
     "metadata": {
      "needs_background": "light"
     },
     "output_type": "display_data"
    }
   ],
   "source": [
    "plt.figure(1, figsize = (14,7))\n",
    "plt.bar(df_winners['candidate'], df_winners['percent'], color=[ '#0015BC', '#FF0000', '#ffdf00', '#508C1B', '#17ADB5'])\n",
    "plt.xlabel(\"Candidate\")\n",
    "plt.ylabel(\"Percent of Total Votes\")\n",
    "plt.grid(alpha = 0.5)\n",
    "plt.rc('axes', axisbelow = True)"
   ]
  },
  {
   "cell_type": "markdown",
   "id": "b34f77cb-a8a4-4fe1-9406-00dc6d715f6e",
   "metadata": {},
   "source": [
    "<h3><center> Top Five Parties based on the total votes </center></h3> \n",
    "\n"
   ]
  },
  {
   "cell_type": "code",
   "execution_count": 8,
   "id": "f713fef8-d64b-4c21-b7a6-0b2fd8a0968f",
   "metadata": {},
   "outputs": [],
   "source": [
    "df_parties = df_president[[ 'party','total_votes']].groupby(['party'], as_index = False).sum()\n",
    "df_parties = df_parties.sort_values(by = \"total_votes\", ascending = False)\n",
    "df_parties = df_parties.reset_index(drop = True)\n",
    "df_parties = df_parties.head(5)"
   ]
  },
  {
   "cell_type": "code",
   "execution_count": 9,
   "id": "5a3ea42e-a601-4dc1-99a7-2c416c99ad83",
   "metadata": {},
   "outputs": [],
   "source": [
    "df_parties[\"percent\"] = df_parties[\"total_votes\"] / df_parties[\"total_votes\"].sum() * 100"
   ]
  },
  {
   "cell_type": "code",
   "execution_count": 10,
   "id": "ee553267-67e9-4bd0-b840-816fbcc79992",
   "metadata": {},
   "outputs": [
    {
     "data": {
      "image/png": "[encoded data removed]",
      "text/plain": [
       "<Figure size 1008x504 with 1 Axes>"
      ]
     },
     "metadata": {
      "needs_background": "light"
     },
     "output_type": "display_data"
    }
   ],
   "source": [
    "plt.figure(figsize = (14,7))\n",
    "plt.bar(df_parties['party'], df_parties['percent'], color=[ '#0015BC', '#FF0000', '#ffdf00', '#508C1B', '#17ADB5'])\n",
    "plt.xlabel(\"Party\")\n",
    "plt.ylabel(\"Percent of Total Votes\")\n",
    "plt.grid(alpha = 0.5)"
   ]
  },
  {
   "cell_type": "markdown",
   "id": "3e39d424-45ac-41d8-ab1e-cc329910416e",
   "metadata": {},
   "source": [
    "<h3><center> Countities </center></h3> "
   ]
  },
  {
   "cell_type": "code",
   "execution_count": 903,
   "id": "5c2905df-7983-41ce-86b4-f1242a06dc0e",
   "metadata": {},
   "outputs": [],
   "source": [
    "df = df_president_turnout[['candidate','won', 'population', 'female', 'male','state']].groupby(['candidate', 'state'], as_index = False)\\\n",
    ".sum().sort_values(by='won', ascending = False)\n",
    "df = df.rename(columns = {\"won\": \"won counties\"})"
   ]
  },
  {
   "cell_type": "code",
   "execution_count": 11,
   "id": "df2c34a3-0561-41a9-9e59-ecaa5a011bb0",
   "metadata": {},
   "outputs": [
    {
     "data": {
      "text/html": [
       "<div>\n",
       "<style scoped>\n",
       "    .dataframe tbody tr th:only-of-type {\n",
       "        vertical-align: middle;\n",
       "    }\n",
       "\n",
       "    .dataframe tbody tr th {\n",
       "        vertical-align: top;\n",
       "    }\n",
       "\n",
       "    .dataframe thead th {\n",
       "        text-align: right;\n",
       "    }\n",
       "</style>\n",
       "<table border=\"1\" class=\"dataframe\">\n",
       "  <thead>\n",
       "    <tr style=\"text-align: right;\">\n",
       "      <th></th>\n",
       "      <th>candidate</th>\n",
       "      <th>state</th>\n",
       "      <th>won counties</th>\n",
       "    </tr>\n",
       "  </thead>\n",
       "  <tbody>\n",
       "    <tr>\n",
       "      <th>0</th>\n",
       "      <td>Donald Trump</td>\n",
       "      <td>Alabama</td>\n",
       "      <td>54</td>\n",
       "    </tr>\n",
       "    <tr>\n",
       "      <th>1</th>\n",
       "      <td>Joe Biden</td>\n",
       "      <td>Alabama</td>\n",
       "      <td>13</td>\n",
       "    </tr>\n",
       "    <tr>\n",
       "      <th>2</th>\n",
       "      <td>Joe Biden</td>\n",
       "      <td>Alaska</td>\n",
       "      <td>17</td>\n",
       "    </tr>\n",
       "    <tr>\n",
       "      <th>3</th>\n",
       "      <td>Donald Trump</td>\n",
       "      <td>Alaska</td>\n",
       "      <td>20</td>\n",
       "    </tr>\n",
       "    <tr>\n",
       "      <th>4</th>\n",
       "      <td>Joe Biden</td>\n",
       "      <td>Arizona</td>\n",
       "      <td>5</td>\n",
       "    </tr>\n",
       "    <tr>\n",
       "      <th>5</th>\n",
       "      <td>Donald Trump</td>\n",
       "      <td>Arizona</td>\n",
       "      <td>10</td>\n",
       "    </tr>\n",
       "    <tr>\n",
       "      <th>6</th>\n",
       "      <td>Joe Biden</td>\n",
       "      <td>Arkansas</td>\n",
       "      <td>8</td>\n",
       "    </tr>\n",
       "    <tr>\n",
       "      <th>7</th>\n",
       "      <td>Donald Trump</td>\n",
       "      <td>Arkansas</td>\n",
       "      <td>67</td>\n",
       "    </tr>\n",
       "    <tr>\n",
       "      <th>8</th>\n",
       "      <td>Joe Biden</td>\n",
       "      <td>California</td>\n",
       "      <td>35</td>\n",
       "    </tr>\n",
       "    <tr>\n",
       "      <th>9</th>\n",
       "      <td>Donald Trump</td>\n",
       "      <td>California</td>\n",
       "      <td>23</td>\n",
       "    </tr>\n",
       "  </tbody>\n",
       "</table>\n",
       "</div>"
      ],
      "text/plain": [
       "      candidate       state  won counties\n",
       "0  Donald Trump     Alabama            54\n",
       "1     Joe Biden     Alabama            13\n",
       "2     Joe Biden      Alaska            17\n",
       "3  Donald Trump      Alaska            20\n",
       "4     Joe Biden     Arizona             5\n",
       "5  Donald Trump     Arizona            10\n",
       "6     Joe Biden    Arkansas             8\n",
       "7  Donald Trump    Arkansas            67\n",
       "8     Joe Biden  California            35\n",
       "9  Donald Trump  California            23"
      ]
     },
     "execution_count": 11,
     "metadata": {},
     "output_type": "execute_result"
    }
   ],
   "source": [
    "df1 = df_president[['candidate','won', \"state\", \"county\"]].groupby(['candidate', \"state\"], as_index = False)\\\n",
    ".sum().sort_values(by='state', ascending = True)\n",
    "df1 = df1.rename(columns = {\"won\": \"won counties\"})\n",
    "df1 = df1[df1.candidate.isin([\"Donald Trump\",\"Joe Biden\"]) == True].reset_index(drop = True)\n",
    "\n",
    "df1.head(10)"
   ]
  },
  {
   "cell_type": "code",
   "execution_count": 14,
   "id": "a290afd5-860e-47f4-b5dc-47f7a99aa21f",
   "metadata": {},
   "outputs": [
    {
     "data": {
      "image/png": "[encoded data removed]",
      "text/plain": [
       "<Figure size 1008x504 with 1 Axes>"
      ]
     },
     "metadata": {
      "needs_background": "light"
     },
     "output_type": "display_data"
    }
   ],
   "source": [
    "x = list(df1[\"state\"].unique())\n",
    "\n",
    "trump = list(df1.loc[df1['candidate'] == \"Donald Trump\"][\"won counties\"])\n",
    "biden = list(df1.loc[df1['candidate'] == \"Joe Biden\"][\"won counties\"])\n",
    "\n",
    "X_axis = np.arange(len(x))\n",
    "plt.figure(figsize = (14,7))\n",
    "plt.bar(x, trump, 0.4, label = 'Trump', color = \"#FF0000\")\n",
    "plt.bar(x, biden, 0.4, label = 'Biden', color = \"#0015BC\")\n",
    "\n",
    "\n",
    "plt.xticks(X_axis, x)\n",
    "plt.xlabel(\"States\")\n",
    "plt.ylabel(\"Number of countities\")\n",
    "plt.title(\"Number of counties won by each candidate in each state\")\n",
    "plt.legend()\n",
    "plt.xticks(rotation=90)\n",
    "plt.show()"
   ]
  },
  {
   "cell_type": "code",
   "execution_count": 13,
   "id": "d0f2d678-8a6f-49cd-bd0f-1296f2bad7f1",
   "metadata": {},
   "outputs": [
    {
     "ename": "NameError",
     "evalue": "name 'df' is not defined",
     "output_type": "error",
     "traceback": [
      "\u001b[0;31m---------------------------------------------------------------------------\u001b[0m",
      "\u001b[0;31mNameError\u001b[0m                                 Traceback (most recent call last)",
      "Input \u001b[0;32mIn [13]\u001b[0m, in \u001b[0;36m<module>\u001b[0;34m\u001b[0m\n\u001b[0;32m----> 1\u001b[0m \u001b[43mdf\u001b[49m\u001b[38;5;241m.\u001b[39mplot\u001b[38;5;241m.\u001b[39mbar(x \u001b[38;5;241m=\u001b[39m \u001b[38;5;124m\"\u001b[39m\u001b[38;5;124mcandidate\u001b[39m\u001b[38;5;124m\"\u001b[39m , y \u001b[38;5;241m=\u001b[39m [\u001b[38;5;124m\"\u001b[39m\u001b[38;5;124mmale\u001b[39m\u001b[38;5;124m\"\u001b[39m,\u001b[38;5;124m\"\u001b[39m\u001b[38;5;124mfemale\u001b[39m\u001b[38;5;124m\"\u001b[39m],figsize \u001b[38;5;241m=\u001b[39m (\u001b[38;5;241m14\u001b[39m,\u001b[38;5;241m7\u001b[39m), rot \u001b[38;5;241m=\u001b[39m \u001b[38;5;241m0\u001b[39m, color \u001b[38;5;241m=\u001b[39m [\u001b[38;5;124m\"\u001b[39m\u001b[38;5;124m#3645FF\u001b[39m\u001b[38;5;124m\"\u001b[39m,\u001b[38;5;124m\"\u001b[39m\u001b[38;5;124m#D01D3E\u001b[39m\u001b[38;5;124m\"\u001b[39m] )\n\u001b[1;32m      2\u001b[0m plt\u001b[38;5;241m.\u001b[39mxlabel(\u001b[38;5;124m\"\u001b[39m\u001b[38;5;124m\"\u001b[39m)\n\u001b[1;32m      3\u001b[0m plt\u001b[38;5;241m.\u001b[39mylabel(\u001b[38;5;124m\"\u001b[39m\u001b[38;5;124mTotal Votes\u001b[39m\u001b[38;5;124m\"\u001b[39m)\n",
      "\u001b[0;31mNameError\u001b[0m: name 'df' is not defined"
     ]
    }
   ],
   "source": [
    "df.plot.bar(x = \"candidate\" , y = [\"male\",\"female\"],figsize = (14,7), rot = 0, color = [\"#3645FF\",\"#D01D3E\"] )\n",
    "plt.xlabel(\"\")\n",
    "plt.ylabel(\"Total Votes\")\n",
    "plt.grid(alpha = 0.5)\n",
    "plt.rc('axes', axisbelow = True)"
   ]
  },
  {
   "cell_type": "markdown",
   "id": "3af29966-dd81-44eb-ae51-69f62b363053",
   "metadata": {
    "tags": []
   },
   "source": [
    "<h2><center> Summary </center></h2>\n",
    "\n",
    "---"
   ]
  },
  {
   "cell_type": "code",
   "execution_count": 3,
   "id": "0e066646-a73a-431a-b3e4-cc4f08307d23",
   "metadata": {},
   "outputs": [],
   "source": [
    "###"
   ]
  },
  {
   "cell_type": "markdown",
   "id": "9536ebb9-4198-460a-98ff-b9de9b4282ba",
   "metadata": {},
   "source": [
    "<h2><center> Other Data Sources </center></h2>\n",
    "\n",
    "---"
   ]
  },
  {
   "cell_type": "code",
   "execution_count": 534,
   "id": "368dc6e9-8cf9-410a-b385-8535e926d55d",
   "metadata": {},
   "outputs": [
    {
     "data": {
      "text/html": [
       "<div>\n",
       "<style scoped>\n",
       "    .dataframe tbody tr th:only-of-type {\n",
       "        vertical-align: middle;\n",
       "    }\n",
       "\n",
       "    .dataframe tbody tr th {\n",
       "        vertical-align: top;\n",
       "    }\n",
       "\n",
       "    .dataframe thead th {\n",
       "        text-align: right;\n",
       "    }\n",
       "</style>\n",
       "<table border=\"1\" class=\"dataframe\">\n",
       "  <thead>\n",
       "    <tr style=\"text-align: right;\">\n",
       "      <th></th>\n",
       "      <th>state</th>\n",
       "      <th>county</th>\n",
       "      <th>candidate</th>\n",
       "      <th>party</th>\n",
       "      <th>total_votes</th>\n",
       "      <th>won</th>\n",
       "      <th>male</th>\n",
       "      <th>female</th>\n",
       "      <th>median_age</th>\n",
       "      <th>population</th>\n",
       "      <th>female_percentage</th>\n",
       "    </tr>\n",
       "  </thead>\n",
       "  <tbody>\n",
       "    <tr>\n",
       "      <th>0</th>\n",
       "      <td>Delaware</td>\n",
       "      <td>Kent County</td>\n",
       "      <td>Joe Biden</td>\n",
       "      <td>DEM</td>\n",
       "      <td>44552</td>\n",
       "      <td>True</td>\n",
       "      <td>84271</td>\n",
       "      <td>90551</td>\n",
       "      <td>37.6</td>\n",
       "      <td>174822</td>\n",
       "      <td>51.796113</td>\n",
       "    </tr>\n",
       "    <tr>\n",
       "      <th>1</th>\n",
       "      <td>Delaware</td>\n",
       "      <td>New Castle County</td>\n",
       "      <td>Joe Biden</td>\n",
       "      <td>DEM</td>\n",
       "      <td>195034</td>\n",
       "      <td>True</td>\n",
       "      <td>268870</td>\n",
       "      <td>286263</td>\n",
       "      <td>38.1</td>\n",
       "      <td>555133</td>\n",
       "      <td>51.566562</td>\n",
       "    </tr>\n",
       "    <tr>\n",
       "      <th>2</th>\n",
       "      <td>Delaware</td>\n",
       "      <td>Sussex County</td>\n",
       "      <td>Donald Trump</td>\n",
       "      <td>REP</td>\n",
       "      <td>71230</td>\n",
       "      <td>True</td>\n",
       "      <td>106429</td>\n",
       "      <td>113111</td>\n",
       "      <td>49.0</td>\n",
       "      <td>219540</td>\n",
       "      <td>51.521818</td>\n",
       "    </tr>\n",
       "    <tr>\n",
       "      <th>3</th>\n",
       "      <td>District of Columbia</td>\n",
       "      <td>District of Columbia</td>\n",
       "      <td>Joe Biden</td>\n",
       "      <td>DEM</td>\n",
       "      <td>39041</td>\n",
       "      <td>True</td>\n",
       "      <td>324881</td>\n",
       "      <td>359617</td>\n",
       "      <td>33.9</td>\n",
       "      <td>684498</td>\n",
       "      <td>52.537334</td>\n",
       "    </tr>\n",
       "    <tr>\n",
       "      <th>4</th>\n",
       "      <td>Florida</td>\n",
       "      <td>Alachua County</td>\n",
       "      <td>Joe Biden</td>\n",
       "      <td>DEM</td>\n",
       "      <td>89704</td>\n",
       "      <td>True</td>\n",
       "      <td>127298</td>\n",
       "      <td>135850</td>\n",
       "      <td>31.3</td>\n",
       "      <td>263148</td>\n",
       "      <td>51.624941</td>\n",
       "    </tr>\n",
       "  </tbody>\n",
       "</table>\n",
       "</div>"
      ],
      "text/plain": [
       "                  state                county     candidate party  \\\n",
       "0              Delaware           Kent County     Joe Biden   DEM   \n",
       "1              Delaware     New Castle County     Joe Biden   DEM   \n",
       "2              Delaware         Sussex County  Donald Trump   REP   \n",
       "3  District of Columbia  District of Columbia     Joe Biden   DEM   \n",
       "4               Florida        Alachua County     Joe Biden   DEM   \n",
       "\n",
       "   total_votes   won    male  female  median_age  population  \\\n",
       "0        44552  True   84271   90551        37.6      174822   \n",
       "1       195034  True  268870  286263        38.1      555133   \n",
       "2        71230  True  106429  113111        49.0      219540   \n",
       "3        39041  True  324881  359617        33.9      684498   \n",
       "4        89704  True  127298  135850        31.3      263148   \n",
       "\n",
       "   female_percentage  \n",
       "0          51.796113  \n",
       "1          51.566562  \n",
       "2          51.521818  \n",
       "3          52.537334  \n",
       "4          51.624941  "
      ]
     },
     "execution_count": 534,
     "metadata": {},
     "output_type": "execute_result"
    }
   ],
   "source": [
    "df_president_turnout = df_president_turnout.drop(columns=['Unnamed: 0', 'fips','state_code','lat','long','color'])\n",
    "df_president_turnout.head(5)"
   ]
  },
  {
   "cell_type": "markdown",
   "id": "c6178d54-c10a-4796-aacd-1209b70818cf",
   "metadata": {},
   "source": [
    "<h2><center> Future Steps </center></h2>"
   ]
  },
  {
   "cell_type": "markdown",
   "id": "4c6cc425-398f-404f-b300-e13777f07cc2",
   "metadata": {},
   "source": [
    "Sample of characteristics of voters "
   ]
  }
 ],
 "metadata": {
  "kernelspec": {
   "display_name": "Python 3 (ipykernel)",
   "language": "python",
   "name": "python3"
  },
  "language_info": {
   "codemirror_mode": {
    "name": "ipython",
    "version": 3
   },
   "file_extension": ".py",
   "mimetype": "text/x-python",
   "name": "python",
   "nbconvert_exporter": "python",
   "pygments_lexer": "ipython3",
   "version": "3.9.7"
  }
 },
 "nbformat": 4,
 "nbformat_minor": 5
}
