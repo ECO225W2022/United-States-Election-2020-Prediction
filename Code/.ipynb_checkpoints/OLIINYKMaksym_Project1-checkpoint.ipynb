{
 "cells": [
  {
   "cell_type": "markdown",
   "id": "575f9924-9e81-4f32-9686-9dfd8825d2e4",
   "metadata": {
    "tags": []
   },
   "source": [
    "<h1><center> TITLE </center></h1>\n",
    "<h4><center>Maksym Oliinyk, 1004506377 <br> Big Data Tools for Economists (ECO225H1 S)</center></h4>\n",
    "\n",
    "---\n",
    "<h2><bold> Outline: </bold></h2>\n",
    "\n",
    "1. Introduction  \n",
    "2. Data Analysis \n",
    "3. Summary \n",
    "4. Future Steps \n",
    "\n",
    "\n"
   ]
  },
  {
   "cell_type": "markdown",
   "id": "c7ec555e-6a7c-4fd8-b4bb-8c6ef8401f05",
   "metadata": {
    "tags": []
   },
   "source": [
    "<h2><center> Introduction </center></h2>\n",
    "\n",
    "---"
   ]
  },
  {
   "cell_type": "markdown",
   "id": "4ef4b5e2-d8a9-4564-b7ad-85542d29fcfc",
   "metadata": {},
   "source": [
    "TEXT TO FILLED IN \n",
    "\n",
    "\n",
    "\n",
    "\n",
    "\n",
    "\n",
    "\n",
    "\n",
    "\n",
    "\n",
    "\n",
    "\n",
    "\n",
    "\n",
    "\n",
    "\n"
   ]
  },
  {
   "cell_type": "markdown",
   "id": "f96428ff-7a34-4485-811e-b7d674fb82f8",
   "metadata": {},
   "source": [
    "<h2><center> Data Analysis </center></h2> \n",
    "\n",
    "---"
   ]
  },
  {
   "cell_type": "code",
   "execution_count": 1,
   "id": "564e1de7-12f7-40ac-9a08-f9f51eb5072e",
   "metadata": {},
   "outputs": [],
   "source": [
    "###"
   ]
  },
  {
   "cell_type": "markdown",
   "id": "3af29966-dd81-44eb-ae51-69f62b363053",
   "metadata": {},
   "source": [
    "<h2><center> Summary </center></h2>\n",
    "\n",
    "---"
   ]
  },
  {
   "cell_type": "code",
   "execution_count": 3,
   "id": "0e066646-a73a-431a-b3e4-cc4f08307d23",
   "metadata": {},
   "outputs": [],
   "source": [
    "###"
   ]
  },
  {
   "cell_type": "markdown",
   "id": "c6178d54-c10a-4796-aacd-1209b70818cf",
   "metadata": {},
   "source": [
    "<h2><center> Future Steps </center></h2>"
   ]
  },
  {
   "cell_type": "code",
   "execution_count": null,
   "id": "fe56448b-b453-488b-bc4e-86f0d01cac7e",
   "metadata": {},
   "outputs": [],
   "source": []
  }
 ],
 "metadata": {
  "kernelspec": {
   "display_name": "Python 3 (ipykernel)",
   "language": "python",
   "name": "python3"
  },
  "language_info": {
   "codemirror_mode": {
    "name": "ipython",
    "version": 3
   },
   "file_extension": ".py",
   "mimetype": "text/x-python",
   "name": "python",
   "nbconvert_exporter": "python",
   "pygments_lexer": "ipython3",
   "version": "3.9.7"
  }
 },
 "nbformat": 4,
 "nbformat_minor": 5
}
