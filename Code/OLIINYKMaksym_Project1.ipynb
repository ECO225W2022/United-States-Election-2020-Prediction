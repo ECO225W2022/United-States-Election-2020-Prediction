{
 "cells": [
  {
   "cell_type": "markdown",
   "id": "575f9924-9e81-4f32-9686-9dfd8825d2e4",
   "metadata": {
    "tags": []
   },
   "source": [
    "<h1><center> United States Election 2020: Dataset Analysis </center></h1>\n",
    "<h4><center>Maksym Oliinyk, 1004506377 <br> Big Data Tools for Economists (ECO225H1 S)</center></h4>\n",
    "\n",
    "---\n",
    "<h2><bold> Outline: </bold></h2>\n",
    "\n",
    "1. Introduction  \n",
    "2. Data Analysis \n",
    "3. Summary \n",
    "4. Future Steps \n",
    "\n",
    "\n"
   ]
  },
  {
   "cell_type": "markdown",
   "id": "c7ec555e-6a7c-4fd8-b4bb-8c6ef8401f05",
   "metadata": {
    "tags": []
   },
   "source": [
    "<h2><center> Introduction </center></h2>\n",
    "\n",
    "---"
   ]
  },
  {
   "cell_type": "markdown",
   "id": "f96428ff-7a34-4485-811e-b7d674fb82f8",
   "metadata": {},
   "source": [
    "<h2><center> Data Analysis </center></h2> \n",
    "\n",
    "---"
   ]
  },
  {
   "cell_type": "code",
   "execution_count": 2,
   "id": "14061426-1c51-4cb0-a185-6aa1095b4e63",
   "metadata": {},
   "outputs": [],
   "source": [
    "import pandas as pd\n",
    "import numpy as np\n",
    "import matplotlib.pyplot as plt"
   ]
  },
  {
   "cell_type": "code",
   "execution_count": 8,
   "id": "bf382f01-88cd-44ba-ab97-61a3923aa79d",
   "metadata": {},
   "outputs": [
    {
     "data": {
      "text/html": [
       "<div>\n",
       "<style scoped>\n",
       "    .dataframe tbody tr th:only-of-type {\n",
       "        vertical-align: middle;\n",
       "    }\n",
       "\n",
       "    .dataframe tbody tr th {\n",
       "        vertical-align: top;\n",
       "    }\n",
       "\n",
       "    .dataframe thead th {\n",
       "        text-align: right;\n",
       "    }\n",
       "</style>\n",
       "<table border=\"1\" class=\"dataframe\">\n",
       "  <thead>\n",
       "    <tr style=\"text-align: right;\">\n",
       "      <th></th>\n",
       "      <th>state</th>\n",
       "      <th>county</th>\n",
       "      <th>candidate</th>\n",
       "      <th>party</th>\n",
       "      <th>total_votes</th>\n",
       "      <th>won</th>\n",
       "    </tr>\n",
       "  </thead>\n",
       "  <tbody>\n",
       "    <tr>\n",
       "      <th>0</th>\n",
       "      <td>Delaware</td>\n",
       "      <td>Kent County</td>\n",
       "      <td>Joe Biden</td>\n",
       "      <td>DEM</td>\n",
       "      <td>44552</td>\n",
       "      <td>True</td>\n",
       "    </tr>\n",
       "    <tr>\n",
       "      <th>1</th>\n",
       "      <td>Delaware</td>\n",
       "      <td>Kent County</td>\n",
       "      <td>Donald Trump</td>\n",
       "      <td>REP</td>\n",
       "      <td>41009</td>\n",
       "      <td>False</td>\n",
       "    </tr>\n",
       "    <tr>\n",
       "      <th>2</th>\n",
       "      <td>Delaware</td>\n",
       "      <td>Kent County</td>\n",
       "      <td>Jo Jorgensen</td>\n",
       "      <td>LIB</td>\n",
       "      <td>1044</td>\n",
       "      <td>False</td>\n",
       "    </tr>\n",
       "    <tr>\n",
       "      <th>3</th>\n",
       "      <td>Delaware</td>\n",
       "      <td>Kent County</td>\n",
       "      <td>Howie Hawkins</td>\n",
       "      <td>GRN</td>\n",
       "      <td>420</td>\n",
       "      <td>False</td>\n",
       "    </tr>\n",
       "    <tr>\n",
       "      <th>4</th>\n",
       "      <td>Delaware</td>\n",
       "      <td>New Castle County</td>\n",
       "      <td>Joe Biden</td>\n",
       "      <td>DEM</td>\n",
       "      <td>195034</td>\n",
       "      <td>True</td>\n",
       "    </tr>\n",
       "  </tbody>\n",
       "</table>\n",
       "</div>"
      ],
      "text/plain": [
       "      state             county      candidate party  total_votes    won\n",
       "0  Delaware        Kent County      Joe Biden   DEM        44552   True\n",
       "1  Delaware        Kent County   Donald Trump   REP        41009  False\n",
       "2  Delaware        Kent County   Jo Jorgensen   LIB         1044  False\n",
       "3  Delaware        Kent County  Howie Hawkins   GRN          420  False\n",
       "4  Delaware  New Castle County      Joe Biden   DEM       195034   True"
      ]
     },
     "execution_count": 8,
     "metadata": {},
     "output_type": "execute_result"
    }
   ],
   "source": [
    "df_president =  pd.read_csv(r\"/Users/maximolii/Desktop/UofT/Years/Fourth Year/2/ECO225/Project/ECO225Project/Data/president_county_candidate.csv\")\n",
    "\n",
    "df_president.head()"
   ]
  },
  {
   "cell_type": "code",
   "execution_count": 130,
   "id": "525405a9-a31d-45e8-97ad-7b53bc0e1d1d",
   "metadata": {},
   "outputs": [
    {
     "data": {
      "text/html": [
       "<div>\n",
       "<style scoped>\n",
       "    .dataframe tbody tr th:only-of-type {\n",
       "        vertical-align: middle;\n",
       "    }\n",
       "\n",
       "    .dataframe tbody tr th {\n",
       "        vertical-align: top;\n",
       "    }\n",
       "\n",
       "    .dataframe thead th {\n",
       "        text-align: right;\n",
       "    }\n",
       "</style>\n",
       "<table border=\"1\" class=\"dataframe\">\n",
       "  <thead>\n",
       "    <tr style=\"text-align: right;\">\n",
       "      <th></th>\n",
       "      <th>candidate</th>\n",
       "      <th>won</th>\n",
       "      <th>won_county</th>\n",
       "    </tr>\n",
       "  </thead>\n",
       "  <tbody>\n",
       "    <tr>\n",
       "      <th>2</th>\n",
       "      <td>Write-ins</td>\n",
       "      <td>True</td>\n",
       "      <td>3</td>\n",
       "    </tr>\n",
       "    <tr>\n",
       "      <th>14</th>\n",
       "      <td>Donald Trump</td>\n",
       "      <td>True</td>\n",
       "      <td>3219</td>\n",
       "    </tr>\n",
       "    <tr>\n",
       "      <th>22</th>\n",
       "      <td>Jo Jorgensen</td>\n",
       "      <td>True</td>\n",
       "      <td>1</td>\n",
       "    </tr>\n",
       "    <tr>\n",
       "      <th>24</th>\n",
       "      <td>Joe Biden</td>\n",
       "      <td>True</td>\n",
       "      <td>1410</td>\n",
       "    </tr>\n",
       "  </tbody>\n",
       "</table>\n",
       "</div>"
      ],
      "text/plain": [
       "       candidate   won  won_county\n",
       "2      Write-ins  True           3\n",
       "14  Donald Trump  True        3219\n",
       "22  Jo Jorgensen  True           1\n",
       "24     Joe Biden  True        1410"
      ]
     },
     "execution_count": 130,
     "metadata": {},
     "output_type": "execute_result"
    }
   ],
   "source": [
    "df_winners = df_president[['candidate','won','state']].groupby(['candidate','won'], as_index = False).count()\n",
    "\n",
    "df_winners = df_winners[df_winners.won == True]\n",
    "df_winners.rename(columns={'state':'won_county'}, inplace = True)\n",
    "\n",
    "df_winners"
   ]
  },
  {
   "cell_type": "code",
   "execution_count": 139,
   "id": "995ab122-aa68-4278-8256-ccc26093abc6",
   "metadata": {},
   "outputs": [
    {
     "name": "stdout",
     "output_type": "stream",
     "text": [
      "4633\n",
      "county    4633\n",
      "dtype: int64\n"
     ]
    }
   ],
   "source": [
    "print(df_winners.won_county.sum())\n",
    "print(df_president[['state','county']].groupby('state').nunique().sum())"
   ]
  },
  {
   "cell_type": "markdown",
   "id": "13c84e70-2521-4e27-b26e-9df5c7700de7",
   "metadata": {},
   "source": [
    "Total number of counties are sum"
   ]
  },
  {
   "cell_type": "code",
   "execution_count": 143,
   "id": "93a7ba12-42ee-4e9a-8f7e-dc0689fa96a1",
   "metadata": {},
   "outputs": [
    {
     "data": {
      "text/plain": [
       "total_votes    1.000000\n",
       "won            0.191779\n",
       "Name: total_votes, dtype: float64"
      ]
     },
     "execution_count": 143,
     "metadata": {},
     "output_type": "execute_result"
    }
   ],
   "source": [
    "df_president.corr()[\"total_votes\"]"
   ]
  },
  {
   "cell_type": "markdown",
   "id": "3af29966-dd81-44eb-ae51-69f62b363053",
   "metadata": {},
   "source": [
    "<h2><center> Summary </center></h2>\n",
    "\n",
    "---"
   ]
  },
  {
   "cell_type": "code",
   "execution_count": 3,
   "id": "0e066646-a73a-431a-b3e4-cc4f08307d23",
   "metadata": {},
   "outputs": [],
   "source": [
    "###"
   ]
  },
  {
   "cell_type": "markdown",
   "id": "c6178d54-c10a-4796-aacd-1209b70818cf",
   "metadata": {},
   "source": [
    "<h2><center> Future Steps </center></h2>"
   ]
  },
  {
   "cell_type": "code",
   "execution_count": null,
   "id": "fe56448b-b453-488b-bc4e-86f0d01cac7e",
   "metadata": {},
   "outputs": [],
   "source": []
  }
 ],
 "metadata": {
  "kernelspec": {
   "display_name": "Python 3 (ipykernel)",
   "language": "python",
   "name": "python3"
  },
  "language_info": {
   "codemirror_mode": {
    "name": "ipython",
    "version": 3
   },
   "file_extension": ".py",
   "mimetype": "text/x-python",
   "name": "python",
   "nbconvert_exporter": "python",
   "pygments_lexer": "ipython3",
   "version": "3.9.7"
  }
 },
 "nbformat": 4,
 "nbformat_minor": 5
}
