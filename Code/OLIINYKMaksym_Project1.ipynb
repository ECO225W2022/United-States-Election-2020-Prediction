{
 "cells": [
  {
   "cell_type": "markdown",
   "id": "575f9924-9e81-4f32-9686-9dfd8825d2e4",
   "metadata": {
    "tags": []
   },
   "source": [
    "<h1><center> United States Election 2020: Data Analysis based on Countities Characteristics </center></h1>\n",
    "<h4><center>Maksym Oliinyk, 1004506377 <br> Big Data Tools for Economists (ECO225H1 S)</center></h4>\n",
    "\n",
    "---\n",
    "<h2><bold> Outline: </bold></h2>\n",
    "\n",
    "1. Introduction  \n",
    "2. Data Analysis \n",
    "3. Summary \n",
    "4. Future Steps \n",
    "\n",
    "---\n"
   ]
  },
  {
   "cell_type": "markdown",
   "id": "c7ec555e-6a7c-4fd8-b4bb-8c6ef8401f05",
   "metadata": {
    "tags": []
   },
   "source": [
    "<h2><center> Introduction </center></h2>\n",
    "\n",
    "---"
   ]
  },
  {
   "cell_type": "markdown",
   "id": "305c9805-ab9b-4d42-8ca7-ef6f5eb0891a",
   "metadata": {},
   "source": [
    "The project analyses how different preliminary counties' characteristics influence total votes they get during the United States election of 2020. The total population and female population proportion are among the preliminary characteristics. The analysis includes two datasets obtained from https://www.kaggle.com/unanimad/us-election-2020 and https://www.kaggle.com/pauldesalvo/2020-election-analysis/data?select=president_counties.csv. The primary dataset, US Election 2020, contains 32177 observations and six variables:  \n",
    "- ***state***: state of the United State.\n",
    "- ***county***: county of the corresponding state.\n",
    "- ***candidate***: presidential candidate.\n",
    "- ***party***: party of the presidential candidate.\n",
    "- ***total_votes***: number of votes that the presidential candidate got in the county in the corresponding state.\n",
    "- ***won***: a boolean expression indicating whether the presidential candidate won in in the county in the corresponding state (***True*** = *won* and ***False*** = *lost*).\n",
    "\n",
    "The additional dataset, 2020 Election analysis, contains 3045 observations and 17 variables, from which six comes from the primary dataset, *state*, *county*, *candidate*, *party*, *total_votes*, and *won*:\n",
    "- ***fips***: numbers that are used to designate certain geographic locations.\n",
    "- ***state_code***: code of the state.\n",
    "- ***male***: number of males in the county in the corresponding state.\n",
    "- ***female***: number of females in the county in the corresponding state. \n",
    "- ***median_age***: median age in the county in the corresponding state.\n",
    "- ***population***: population in the county in the corresponding state. \n",
    "- ***female_percentage***: percantage of female population in the county in the corresponding state.\n",
    "- ***lat***: latitude coordinates of the county.\n",
    "- ***long***: longitude coordinates of the county. \n",
    "- ***color***: colour of the party (Republicans = red and Democrats = blue).\n",
    "\n",
    "The additional dataset contains a smaller amount of observations since it includes only the won counties of each party. However, it is used to extract preliminary characteristics of the county. \n",
    "\n",
    "The data analysis suggests that the preliminary counties' characteristics, such as female population proportion and total population (independent variables), have explanatory power on total votes a party gets (dependent variable). However, to conduct an integrated study, the project recommends incorporating complementary data sources of county characteristics. \n",
    "\n",
    "The main statements that analysis presents are: \n",
    "- *Republicans won most of the counties.* \n",
    "- *Democrats got most of the votes.* \n",
    "- *Median age for counties where Republican Party won is higher than Democratic Party.*\n",
    "- *Republican Party won most of the counties with a relatively small population.* \n",
    "- *Females are might likely to vote for Democrats than Republicans.*\n",
    "    - *Similarly, males are might likely to vote for Republicans than Democrats.*\n",
    "    \n",
    "---"
   ]
  },
  {
   "cell_type": "markdown",
   "id": "f96428ff-7a34-4485-811e-b7d674fb82f8",
   "metadata": {},
   "source": [
    "<h2><center> Data Analysis </center></h2> \n",
    "\n",
    "---"
   ]
  },
  {
   "cell_type": "code",
   "execution_count": 3,
   "id": "14061426-1c51-4cb0-a185-6aa1095b4e63",
   "metadata": {},
   "outputs": [],
   "source": [
    "import pandas as pd\n",
    "import numpy as np\n",
    "import matplotlib.pyplot as plt"
   ]
  },
  {
   "cell_type": "code",
   "execution_count": 4,
   "id": "712b16e9-18e9-48b5-ac85-fe6287d9c0ba",
   "metadata": {},
   "outputs": [],
   "source": [
    "df_president =  pd.read_csv(r\"/Users/maximolii/Desktop/UofT/Years/Fourth Year/2/ECO225/Project/ECO225Project/Data/president_county_candidate.csv\")\n",
    "df_president_enrich = pd.read_csv(r\"/Users/maximolii/Desktop/UofT/Years/Fourth Year/2/ECO225/Project/ECO225Project/Data/president_counties.csv\")"
   ]
  },
  {
   "cell_type": "code",
   "execution_count": 5,
   "id": "9477b4f7-a295-45e4-8979-6dd87fd2d638",
   "metadata": {},
   "outputs": [
    {
     "data": {
      "text/html": [
       "<div>\n",
       "<style scoped>\n",
       "    .dataframe tbody tr th:only-of-type {\n",
       "        vertical-align: middle;\n",
       "    }\n",
       "\n",
       "    .dataframe tbody tr th {\n",
       "        vertical-align: top;\n",
       "    }\n",
       "\n",
       "    .dataframe thead th {\n",
       "        text-align: right;\n",
       "    }\n",
       "</style>\n",
       "<table border=\"1\" class=\"dataframe\">\n",
       "  <thead>\n",
       "    <tr style=\"text-align: right;\">\n",
       "      <th></th>\n",
       "      <th>state</th>\n",
       "      <th>county</th>\n",
       "      <th>candidate</th>\n",
       "      <th>party</th>\n",
       "      <th>total_votes</th>\n",
       "      <th>won</th>\n",
       "    </tr>\n",
       "  </thead>\n",
       "  <tbody>\n",
       "    <tr>\n",
       "      <th>0</th>\n",
       "      <td>Delaware</td>\n",
       "      <td>Kent County</td>\n",
       "      <td>Joe Biden</td>\n",
       "      <td>DEM</td>\n",
       "      <td>44552</td>\n",
       "      <td>True</td>\n",
       "    </tr>\n",
       "    <tr>\n",
       "      <th>1</th>\n",
       "      <td>Delaware</td>\n",
       "      <td>Kent County</td>\n",
       "      <td>Donald Trump</td>\n",
       "      <td>REP</td>\n",
       "      <td>41009</td>\n",
       "      <td>False</td>\n",
       "    </tr>\n",
       "    <tr>\n",
       "      <th>2</th>\n",
       "      <td>Delaware</td>\n",
       "      <td>Kent County</td>\n",
       "      <td>Jo Jorgensen</td>\n",
       "      <td>LIB</td>\n",
       "      <td>1044</td>\n",
       "      <td>False</td>\n",
       "    </tr>\n",
       "    <tr>\n",
       "      <th>3</th>\n",
       "      <td>Delaware</td>\n",
       "      <td>Kent County</td>\n",
       "      <td>Howie Hawkins</td>\n",
       "      <td>GRN</td>\n",
       "      <td>420</td>\n",
       "      <td>False</td>\n",
       "    </tr>\n",
       "    <tr>\n",
       "      <th>4</th>\n",
       "      <td>Delaware</td>\n",
       "      <td>New Castle County</td>\n",
       "      <td>Joe Biden</td>\n",
       "      <td>DEM</td>\n",
       "      <td>195034</td>\n",
       "      <td>True</td>\n",
       "    </tr>\n",
       "  </tbody>\n",
       "</table>\n",
       "</div>"
      ],
      "text/plain": [
       "      state             county      candidate party  total_votes    won\n",
       "0  Delaware        Kent County      Joe Biden   DEM        44552   True\n",
       "1  Delaware        Kent County   Donald Trump   REP        41009  False\n",
       "2  Delaware        Kent County   Jo Jorgensen   LIB         1044  False\n",
       "3  Delaware        Kent County  Howie Hawkins   GRN          420  False\n",
       "4  Delaware  New Castle County      Joe Biden   DEM       195034   True"
      ]
     },
     "execution_count": 5,
     "metadata": {},
     "output_type": "execute_result"
    }
   ],
   "source": [
    "# Check five first observations and variables in the main dataset.\n",
    "df_president.head(5)"
   ]
  },
  {
   "cell_type": "code",
   "execution_count": 6,
   "id": "ea1e8f35-c3d3-489d-b692-37f14fb449eb",
   "metadata": {},
   "outputs": [
    {
     "data": {
      "text/html": [
       "<div>\n",
       "<style scoped>\n",
       "    .dataframe tbody tr th:only-of-type {\n",
       "        vertical-align: middle;\n",
       "    }\n",
       "\n",
       "    .dataframe tbody tr th {\n",
       "        vertical-align: top;\n",
       "    }\n",
       "\n",
       "    .dataframe thead th {\n",
       "        text-align: right;\n",
       "    }\n",
       "</style>\n",
       "<table border=\"1\" class=\"dataframe\">\n",
       "  <thead>\n",
       "    <tr style=\"text-align: right;\">\n",
       "      <th></th>\n",
       "      <th>Unnamed: 0</th>\n",
       "      <th>state</th>\n",
       "      <th>county</th>\n",
       "      <th>candidate</th>\n",
       "      <th>party</th>\n",
       "      <th>total_votes</th>\n",
       "      <th>won</th>\n",
       "      <th>fips</th>\n",
       "      <th>state_code</th>\n",
       "      <th>male</th>\n",
       "      <th>female</th>\n",
       "      <th>median_age</th>\n",
       "      <th>population</th>\n",
       "      <th>female_percentage</th>\n",
       "      <th>lat</th>\n",
       "      <th>long</th>\n",
       "      <th>color</th>\n",
       "    </tr>\n",
       "  </thead>\n",
       "  <tbody>\n",
       "    <tr>\n",
       "      <th>0</th>\n",
       "      <td>0</td>\n",
       "      <td>Delaware</td>\n",
       "      <td>Kent County</td>\n",
       "      <td>Joe Biden</td>\n",
       "      <td>DEM</td>\n",
       "      <td>44552</td>\n",
       "      <td>True</td>\n",
       "      <td>10001</td>\n",
       "      <td>DE</td>\n",
       "      <td>84271</td>\n",
       "      <td>90551</td>\n",
       "      <td>37.6</td>\n",
       "      <td>174822</td>\n",
       "      <td>51.796113</td>\n",
       "      <td>39.086169</td>\n",
       "      <td>-75.568422</td>\n",
       "      <td>blue</td>\n",
       "    </tr>\n",
       "    <tr>\n",
       "      <th>1</th>\n",
       "      <td>4</td>\n",
       "      <td>Delaware</td>\n",
       "      <td>New Castle County</td>\n",
       "      <td>Joe Biden</td>\n",
       "      <td>DEM</td>\n",
       "      <td>195034</td>\n",
       "      <td>True</td>\n",
       "      <td>10003</td>\n",
       "      <td>DE</td>\n",
       "      <td>268870</td>\n",
       "      <td>286263</td>\n",
       "      <td>38.1</td>\n",
       "      <td>555133</td>\n",
       "      <td>51.566562</td>\n",
       "      <td>39.576833</td>\n",
       "      <td>-75.652692</td>\n",
       "      <td>blue</td>\n",
       "    </tr>\n",
       "    <tr>\n",
       "      <th>2</th>\n",
       "      <td>8</td>\n",
       "      <td>Delaware</td>\n",
       "      <td>Sussex County</td>\n",
       "      <td>Donald Trump</td>\n",
       "      <td>REP</td>\n",
       "      <td>71230</td>\n",
       "      <td>True</td>\n",
       "      <td>10005</td>\n",
       "      <td>DE</td>\n",
       "      <td>106429</td>\n",
       "      <td>113111</td>\n",
       "      <td>49.0</td>\n",
       "      <td>219540</td>\n",
       "      <td>51.521818</td>\n",
       "      <td>38.660553</td>\n",
       "      <td>-75.390038</td>\n",
       "      <td>red</td>\n",
       "    </tr>\n",
       "    <tr>\n",
       "      <th>3</th>\n",
       "      <td>12</td>\n",
       "      <td>District of Columbia</td>\n",
       "      <td>District of Columbia</td>\n",
       "      <td>Joe Biden</td>\n",
       "      <td>DEM</td>\n",
       "      <td>39041</td>\n",
       "      <td>True</td>\n",
       "      <td>11001</td>\n",
       "      <td>NaN</td>\n",
       "      <td>324881</td>\n",
       "      <td>359617</td>\n",
       "      <td>33.9</td>\n",
       "      <td>684498</td>\n",
       "      <td>52.537334</td>\n",
       "      <td>38.904734</td>\n",
       "      <td>-77.016294</td>\n",
       "      <td>blue</td>\n",
       "    </tr>\n",
       "    <tr>\n",
       "      <th>4</th>\n",
       "      <td>19</td>\n",
       "      <td>Florida</td>\n",
       "      <td>Alachua County</td>\n",
       "      <td>Joe Biden</td>\n",
       "      <td>DEM</td>\n",
       "      <td>89704</td>\n",
       "      <td>True</td>\n",
       "      <td>12001</td>\n",
       "      <td>FL</td>\n",
       "      <td>127298</td>\n",
       "      <td>135850</td>\n",
       "      <td>31.3</td>\n",
       "      <td>263148</td>\n",
       "      <td>51.624941</td>\n",
       "      <td>29.674750</td>\n",
       "      <td>-82.357714</td>\n",
       "      <td>blue</td>\n",
       "    </tr>\n",
       "  </tbody>\n",
       "</table>\n",
       "</div>"
      ],
      "text/plain": [
       "   Unnamed: 0                 state                county     candidate party  \\\n",
       "0           0              Delaware           Kent County     Joe Biden   DEM   \n",
       "1           4              Delaware     New Castle County     Joe Biden   DEM   \n",
       "2           8              Delaware         Sussex County  Donald Trump   REP   \n",
       "3          12  District of Columbia  District of Columbia     Joe Biden   DEM   \n",
       "4          19               Florida        Alachua County     Joe Biden   DEM   \n",
       "\n",
       "   total_votes   won   fips state_code    male  female  median_age  \\\n",
       "0        44552  True  10001         DE   84271   90551        37.6   \n",
       "1       195034  True  10003         DE  268870  286263        38.1   \n",
       "2        71230  True  10005         DE  106429  113111        49.0   \n",
       "3        39041  True  11001        NaN  324881  359617        33.9   \n",
       "4        89704  True  12001         FL  127298  135850        31.3   \n",
       "\n",
       "   population  female_percentage        lat       long color  \n",
       "0      174822          51.796113  39.086169 -75.568422  blue  \n",
       "1      555133          51.566562  39.576833 -75.652692  blue  \n",
       "2      219540          51.521818  38.660553 -75.390038   red  \n",
       "3      684498          52.537334  38.904734 -77.016294  blue  \n",
       "4      263148          51.624941  29.674750 -82.357714  blue  "
      ]
     },
     "execution_count": 6,
     "metadata": {},
     "output_type": "execute_result"
    }
   ],
   "source": [
    "# Check five first observations and variables in the additional dataset.\n",
    "df_president_enrich.head(5)"
   ]
  },
  {
   "cell_type": "markdown",
   "id": "5548101a-31b1-4b27-af1e-9b1d8cfac7f5",
   "metadata": {},
   "source": [
    "As stated in the introduction, the primary dataset contains 32177 observations and six variables, and the supplementary dataset contains 3045 and 17, correspondingly. First, the analysis suggests that, at this stage of the project, secondary variables *fips*, *state_code*, *male*, *female*, *lat*, *long*, and *color* will not provide additional information that could explain effect on total votes that a party gets. For research, it might be significantly important to understand whether counties' characteristics influence the choice of which party to vote, excluding the exogenous variable such as political debates, news, etc. In other words, the analysis tries to invistigate if there any relationship between population characteristics and their voting decision."
   ]
  },
  {
   "cell_type": "code",
   "execution_count": 5,
   "id": "0121b9d8-7615-4af3-9e6f-8cfbe505caff",
   "metadata": {},
   "outputs": [
    {
     "name": "stdout",
     "output_type": "stream",
     "text": [
      "Republican Party \n",
      "Min =  0 \n",
      "Max =  1145530 \n",
      "Mean =  16098.79235916253 \n",
      "Standard Deviation =  45531.30995531571\n"
     ]
    }
   ],
   "source": [
    "# The subset of the dataset; accessing rows with REP party.\n",
    "df_rep = df_president.loc[df_president.party == \"REP\"]\n",
    "\n",
    "# Extracting single column, total_votes.\n",
    "votes_rep = df_rep[\"total_votes\"]\n",
    "\n",
    "# Basic summary statistics of total_votes variable for REP party. \n",
    "print('Republican Party',\"\\n\"\\\n",
    "      \"Min = \", votes_rep.min(),\"\\n\"\\\n",
    "      \"Max = \", votes_rep.max(),\"\\n\"\\\n",
    "      \"Mean = \", votes_rep.mean(),\"\\n\"\\\n",
    "      \"Standard Deviation = \",votes_rep.std())"
   ]
  },
  {
   "cell_type": "code",
   "execution_count": 6,
   "id": "2b40cb4e-6b5d-4d4c-8b2a-a051e6281cf1",
   "metadata": {},
   "outputs": [
    {
     "data": {
      "image/png": "[encoded data removed]",
      "text/plain": [
       "<Figure size 1008x504 with 1 Axes>"
      ]
     },
     "metadata": {
      "needs_background": "light"
     },
     "output_type": "display_data"
    }
   ],
   "source": [
    "plt.figure(figsize = (14,7))\n",
    "plt.hist(votes_rep, bins = 60, color= ['#FF000099'])\n",
    "plt.xlabel(\"Total votes\") \n",
    "plt.ylabel(\"Frequency\")\n",
    "plt.title(\"Histogram: Total Votes for Republicans\",\\\n",
    "          fontsize = 20, fontweight = 'bold')\n",
    "plt.grid(alpha = 0.5)"
   ]
  },
  {
   "cell_type": "code",
   "execution_count": 7,
   "id": "4a47d350-8c50-4263-b787-ce4b27af7828",
   "metadata": {},
   "outputs": [
    {
     "name": "stdout",
     "output_type": "stream",
     "text": [
      "Democratic Party \n",
      "Min = 0 \n",
      "Max = 3028885 \n",
      "Mean = 17709.13749190589 \n",
      "Standard Deviation = 80206.43718422754\n"
     ]
    }
   ],
   "source": [
    "# The subset of the dataset; accessing rows with DEM party.\n",
    "df_dem = df_president.loc[df_president.party == \"DEM\"]\n",
    "\n",
    "# Extracting single column, total_votes.\n",
    "votes_dem = df_dem[\"total_votes\"]\n",
    "\n",
    "# Basic summary statistics of total_votes variable for DEM party. \n",
    "print('Democratic Party',\"\\n\"\\\n",
    "      \"Min =\", votes_dem.min(),\"\\n\"\\\n",
    "      \"Max =\", votes_dem.max(),\"\\n\"\\\n",
    "      \"Mean =\", votes_dem.mean(),\"\\n\"\\\n",
    "      \"Standard Deviation =\",votes_dem.std())"
   ]
  },
  {
   "cell_type": "code",
   "execution_count": 8,
   "id": "a2fad7b2-e02a-4d69-aced-05940b448fe5",
   "metadata": {},
   "outputs": [
    {
     "data": {
      "image/png": "[encoded data removed]",
      "text/plain": [
       "<Figure size 1008x504 with 1 Axes>"
      ]
     },
     "metadata": {
      "needs_background": "light"
     },
     "output_type": "display_data"
    }
   ],
   "source": [
    "plt.figure(figsize = (14,7))\n",
    "plt.hist(votes_dem, bins = 60, color= ['#0015BC99'])\n",
    "plt.xlabel(\"Total votes\") \n",
    "plt.ylabel(\"Frequency\")\n",
    "plt.title(\"Histogram: Total Votes for Democrats\",\\\n",
    "          fontsize = 20, fontweight = 'bold')\n",
    "plt.grid(alpha = 0.5)"
   ]
  },
  {
   "cell_type": "markdown",
   "id": "77e61bc8-91e0-49d0-a6fd-f7e4d8e1da2f",
   "metadata": {},
   "source": [
    "The project starts with descriptive statistics. Above, we can see the comparison between the Republican and Democratic parties (counties level). We can see that Republicans have a lower mean, on average, 16,098 votes per county, while Democrats have an average value of 17,709 votes per county. The gap is 1611 votes or 10%, which is, at a state-level, which might be economically significant. Also, we can observe that the standard deviation of total votes for the Republican Party is lower, suggesting that total votes observations close together. From histograms, we can see that for Republicans, most of the observations lie in the range between 0 and 0.2, while for Democrats, 0 and 0.5, suggesting that Republicans have more total votes at the county level. "
   ]
  },
  {
   "cell_type": "markdown",
   "id": "f7271918-2bec-4d82-867e-65e8f6f55a05",
   "metadata": {},
   "source": [
    "<h3><center> Top Five Candidates based on the total votes </center></h3> \n",
    "\n",
    "\n"
   ]
  },
  {
   "cell_type": "code",
   "execution_count": 7,
   "id": "525405a9-a31d-45e8-97ad-7b53bc0e1d1d",
   "metadata": {},
   "outputs": [
    {
     "data": {
      "text/html": [
       "<div>\n",
       "<style scoped>\n",
       "    .dataframe tbody tr th:only-of-type {\n",
       "        vertical-align: middle;\n",
       "    }\n",
       "\n",
       "    .dataframe tbody tr th {\n",
       "        vertical-align: top;\n",
       "    }\n",
       "\n",
       "    .dataframe thead th {\n",
       "        text-align: right;\n",
       "    }\n",
       "</style>\n",
       "<table border=\"1\" class=\"dataframe\">\n",
       "  <thead>\n",
       "    <tr style=\"text-align: right;\">\n",
       "      <th></th>\n",
       "      <th>candidate</th>\n",
       "      <th>total_votes</th>\n",
       "    </tr>\n",
       "  </thead>\n",
       "  <tbody>\n",
       "    <tr>\n",
       "      <th>0</th>\n",
       "      <td>Joe Biden</td>\n",
       "      <td>82046434</td>\n",
       "    </tr>\n",
       "    <tr>\n",
       "      <th>1</th>\n",
       "      <td>Donald Trump</td>\n",
       "      <td>74585705</td>\n",
       "    </tr>\n",
       "    <tr>\n",
       "      <th>2</th>\n",
       "      <td>Jo Jorgensen</td>\n",
       "      <td>1874183</td>\n",
       "    </tr>\n",
       "    <tr>\n",
       "      <th>3</th>\n",
       "      <td>Howie Hawkins</td>\n",
       "      <td>404835</td>\n",
       "    </tr>\n",
       "    <tr>\n",
       "      <th>4</th>\n",
       "      <td>Write-ins</td>\n",
       "      <td>254274</td>\n",
       "    </tr>\n",
       "  </tbody>\n",
       "</table>\n",
       "</div>"
      ],
      "text/plain": [
       "       candidate  total_votes\n",
       "0      Joe Biden     82046434\n",
       "1   Donald Trump     74585705\n",
       "2   Jo Jorgensen      1874183\n",
       "3  Howie Hawkins       404835\n",
       "4      Write-ins       254274"
      ]
     },
     "execution_count": 7,
     "metadata": {},
     "output_type": "execute_result"
    }
   ],
   "source": [
    "# Group the dataset by candidate (top 5), and sum up total votes they got. \n",
    "df_candidates = df_president[['candidate','total_votes']]\\\n",
    ".groupby(['candidate'], as_index = False).sum()\n",
    "df_candidates = df_candidates.\\\n",
    "sort_values(by = \"total_votes\", ascending = False)\n",
    "df_candidates = df_candidates.reset_index(drop = True)\n",
    "df_candidates = df_candidates.head(5)\n",
    "\n",
    "df_candidates"
   ]
  },
  {
   "cell_type": "code",
   "execution_count": 10,
   "id": "6e9d42e0-db81-4d09-a1bf-297406430ca7",
   "metadata": {},
   "outputs": [],
   "source": [
    "# Create new column percent (percent = \"total_votes\" / (sum of \"total_votes\") * 100.\n",
    "df_candidates[\"percent\"] = df_candidates[\"total_votes\"] / df_candidates[\"total_votes\"].sum() * 100"
   ]
  },
  {
   "cell_type": "code",
   "execution_count": 11,
   "id": "eba8a727-d221-4cd0-a16c-6081b6f331f2",
   "metadata": {},
   "outputs": [
    {
     "data": {
      "image/png": "[encoded data removed]",
      "text/plain": [
       "<Figure size 1008x504 with 1 Axes>"
      ]
     },
     "metadata": {
      "needs_background": "light"
     },
     "output_type": "display_data"
    }
   ],
   "source": [
    "# Plot the barchart of the \"percent\" (top 5 candidates).\n",
    "plt.figure(figsize = (14,7))\n",
    "plt.bar(df_candidates['candidate'],\\\n",
    "        df_candidates['percent'],\\\n",
    "        color=[ '#0015BC', '#FF0000',\\\n",
    "               '#ffdf00', '#508C1B', '#17ADB5'])\n",
    "plt.xlabel(\"Candidate\")\n",
    "plt.ylabel(\"Percent of Total Votes\")\n",
    "plt.grid(alpha = 0.5)\n",
    "plt.rc('axes', axisbelow = True)"
   ]
  },
  {
   "cell_type": "markdown",
   "id": "861c87ec-f809-4e7c-9673-e89b1fe84a27",
   "metadata": {},
   "source": [
    "As stated above, Democratic Party got more votes in most counties; thus, Joe Biden, as a presidential candidate from Democratic Party, has more votes than Donald Trump."
   ]
  },
  {
   "cell_type": "markdown",
   "id": "b34f77cb-a8a4-4fe1-9406-00dc6d715f6e",
   "metadata": {
    "tags": []
   },
   "source": [
    "<h3><center> Top Five Parties based on the total votes </center></h3> \n",
    "\n"
   ]
  },
  {
   "cell_type": "code",
   "execution_count": 8,
   "id": "f713fef8-d64b-4c21-b7a6-0b2fd8a0968f",
   "metadata": {},
   "outputs": [
    {
     "data": {
      "text/html": [
       "<div>\n",
       "<style scoped>\n",
       "    .dataframe tbody tr th:only-of-type {\n",
       "        vertical-align: middle;\n",
       "    }\n",
       "\n",
       "    .dataframe tbody tr th {\n",
       "        vertical-align: top;\n",
       "    }\n",
       "\n",
       "    .dataframe thead th {\n",
       "        text-align: right;\n",
       "    }\n",
       "</style>\n",
       "<table border=\"1\" class=\"dataframe\">\n",
       "  <thead>\n",
       "    <tr style=\"text-align: right;\">\n",
       "      <th></th>\n",
       "      <th>party</th>\n",
       "      <th>total_votes</th>\n",
       "    </tr>\n",
       "  </thead>\n",
       "  <tbody>\n",
       "    <tr>\n",
       "      <th>0</th>\n",
       "      <td>DEM</td>\n",
       "      <td>82046434</td>\n",
       "    </tr>\n",
       "    <tr>\n",
       "      <th>1</th>\n",
       "      <td>REP</td>\n",
       "      <td>74585705</td>\n",
       "    </tr>\n",
       "    <tr>\n",
       "      <th>2</th>\n",
       "      <td>LIB</td>\n",
       "      <td>1874183</td>\n",
       "    </tr>\n",
       "    <tr>\n",
       "      <th>3</th>\n",
       "      <td>GRN</td>\n",
       "      <td>407508</td>\n",
       "    </tr>\n",
       "    <tr>\n",
       "      <th>4</th>\n",
       "      <td>WRI</td>\n",
       "      <td>254274</td>\n",
       "    </tr>\n",
       "  </tbody>\n",
       "</table>\n",
       "</div>"
      ],
      "text/plain": [
       "  party  total_votes\n",
       "0   DEM     82046434\n",
       "1   REP     74585705\n",
       "2   LIB      1874183\n",
       "3   GRN       407508\n",
       "4   WRI       254274"
      ]
     },
     "execution_count": 8,
     "metadata": {},
     "output_type": "execute_result"
    }
   ],
   "source": [
    "# Group the dataset by party (top 5), and sum up total votes they got. \n",
    "df_parties = df_president[[ 'party','total_votes']]\\\n",
    ".groupby(['party'], as_index = False).sum()\n",
    "df_parties = df_parties.sort_values(by = \"total_votes\", ascending = False)\n",
    "df_parties = df_parties.reset_index(drop = True)\n",
    "df_parties = df_parties.head(5)\n",
    "\n",
    "df_parties.head(5)"
   ]
  },
  {
   "cell_type": "code",
   "execution_count": 9,
   "id": "5a3ea42e-a601-4dc1-99a7-2c416c99ad83",
   "metadata": {},
   "outputs": [],
   "source": [
    "# Create new column percent (percent = \"total_votes\" / (sum of \"total_votes\") * 100.\n",
    "df_parties[\"percent\"] = df_parties[\"total_votes\"]\\\n",
    "/ df_parties[\"total_votes\"].sum() * 100"
   ]
  },
  {
   "cell_type": "code",
   "execution_count": 14,
   "id": "ee553267-67e9-4bd0-b840-816fbcc79992",
   "metadata": {},
   "outputs": [
    {
     "data": {
      "image/png": "[encoded data removed]",
      "text/plain": [
       "<Figure size 1008x504 with 1 Axes>"
      ]
     },
     "metadata": {
      "needs_background": "light"
     },
     "output_type": "display_data"
    }
   ],
   "source": [
    "# Plot the barchart of the \"percent\" (top 5 parties).\n",
    "plt.figure(figsize = (14,7))\n",
    "plt.bar(df_parties['party'], df_parties['percent'],\\\n",
    "        color=[ '#0015BC', '#FF0000', '#ffdf00', '#508C1B', '#17ADB5'])\n",
    "plt.xlabel(\"Party\")\n",
    "plt.ylabel(\"Percent of Total Votes\")\n",
    "plt.grid(alpha = 0.5)"
   ]
  },
  {
   "cell_type": "markdown",
   "id": "063de529-c48f-46fc-9d47-f3451483bfe7",
   "metadata": {},
   "source": [
    "Similarly, as stated in Top Five candidates based on the total votes, Democrats got more votes than Republicans. "
   ]
  },
  {
   "cell_type": "markdown",
   "id": "5e85ae7c-485e-4ca6-920c-35d3271a2eed",
   "metadata": {},
   "source": [
    "<h3><center> Top Five Parties based on the won counties </center></h3> "
   ]
  },
  {
   "cell_type": "code",
   "execution_count": 15,
   "id": "94720919-1418-499d-a2ef-64864e56f61a",
   "metadata": {},
   "outputs": [
    {
     "data": {
      "text/html": [
       "<div>\n",
       "<style scoped>\n",
       "    .dataframe tbody tr th:only-of-type {\n",
       "        vertical-align: middle;\n",
       "    }\n",
       "\n",
       "    .dataframe tbody tr th {\n",
       "        vertical-align: top;\n",
       "    }\n",
       "\n",
       "    .dataframe thead th {\n",
       "        text-align: right;\n",
       "    }\n",
       "</style>\n",
       "<table border=\"1\" class=\"dataframe\">\n",
       "  <thead>\n",
       "    <tr style=\"text-align: right;\">\n",
       "      <th></th>\n",
       "      <th>party</th>\n",
       "      <th>won</th>\n",
       "    </tr>\n",
       "  </thead>\n",
       "  <tbody>\n",
       "    <tr>\n",
       "      <th>0</th>\n",
       "      <td>REP</td>\n",
       "      <td>3219</td>\n",
       "    </tr>\n",
       "    <tr>\n",
       "      <th>1</th>\n",
       "      <td>DEM</td>\n",
       "      <td>1410</td>\n",
       "    </tr>\n",
       "    <tr>\n",
       "      <th>2</th>\n",
       "      <td>WRI</td>\n",
       "      <td>3</td>\n",
       "    </tr>\n",
       "    <tr>\n",
       "      <th>3</th>\n",
       "      <td>LIB</td>\n",
       "      <td>1</td>\n",
       "    </tr>\n",
       "    <tr>\n",
       "      <th>4</th>\n",
       "      <td>LLP</td>\n",
       "      <td>0</td>\n",
       "    </tr>\n",
       "  </tbody>\n",
       "</table>\n",
       "</div>"
      ],
      "text/plain": [
       "  party   won\n",
       "0   REP  3219\n",
       "1   DEM  1410\n",
       "2   WRI     3\n",
       "3   LIB     1\n",
       "4   LLP     0"
      ]
     },
     "execution_count": 15,
     "metadata": {},
     "output_type": "execute_result"
    }
   ],
   "source": [
    "# Group the dataset by party (top 5), and sum up total counties they won. \n",
    "df_counties = df_president[['party','won']]\\\n",
    ".groupby(['party'], as_index = False).sum()\n",
    "df_counties = df_counties.sort_values(by = \"won\",\\\n",
    "                                      ascending = False)\n",
    "df_counties = df_counties.reset_index(drop = True)\n",
    "df_counties = df_counties.head(5)\n",
    "\n",
    "df_counties"
   ]
  },
  {
   "cell_type": "code",
   "execution_count": 16,
   "id": "6e4624a4-d07e-405e-a3e0-75ad9efa9fc7",
   "metadata": {},
   "outputs": [
    {
     "data": {
      "image/png": "[encoded data removed]",
      "text/plain": [
       "<Figure size 1008x504 with 1 Axes>"
      ]
     },
     "metadata": {
      "needs_background": "light"
     },
     "output_type": "display_data"
    }
   ],
   "source": [
    "# Plot the barchart of the \"won\" (top 5 parties).\n",
    "plt.figure(figsize = (14,7))\n",
    "plt.bar(df_counties['party'],\\\n",
    "        df_counties['won'],\\\n",
    "        color=[ '#FF0000', '#0015BC',\\\n",
    "               '#17ADB5', '#ffdf00', '#508C1B'])\n",
    "plt.xlabel(\"Candidate\")\n",
    "plt.ylabel(\"Number of Won Counties\")\n",
    "plt.grid(alpha = 0.5)"
   ]
  },
  {
   "cell_type": "markdown",
   "id": "391774b1-41ef-485b-98ec-ac63a2e54ed1",
   "metadata": {},
   "source": [
    "According to this bar chart, even though the Democratic Party received the majority of votes, the Republican Party received the majority of counties. The path to electoral victory, on the other hand, is determined by the number of votes a candidate receives in a state, not by the number of counties won."
   ]
  },
  {
   "cell_type": "markdown",
   "id": "3e39d424-45ac-41d8-ab1e-cc329910416e",
   "metadata": {},
   "source": [
    "<h3><center> County: Republicans versus Democrats </center></h3> "
   ]
  },
  {
   "cell_type": "code",
   "execution_count": 17,
   "id": "df2c34a3-0561-41a9-9e59-ecaa5a011bb0",
   "metadata": {},
   "outputs": [
    {
     "data": {
      "text/html": [
       "<div>\n",
       "<style scoped>\n",
       "    .dataframe tbody tr th:only-of-type {\n",
       "        vertical-align: middle;\n",
       "    }\n",
       "\n",
       "    .dataframe tbody tr th {\n",
       "        vertical-align: top;\n",
       "    }\n",
       "\n",
       "    .dataframe thead th {\n",
       "        text-align: right;\n",
       "    }\n",
       "</style>\n",
       "<table border=\"1\" class=\"dataframe\">\n",
       "  <thead>\n",
       "    <tr style=\"text-align: right;\">\n",
       "      <th></th>\n",
       "      <th>party</th>\n",
       "      <th>state</th>\n",
       "      <th>won counties</th>\n",
       "      <th>total_votes</th>\n",
       "    </tr>\n",
       "  </thead>\n",
       "  <tbody>\n",
       "    <tr>\n",
       "      <th>0</th>\n",
       "      <td>DEM</td>\n",
       "      <td>Alabama</td>\n",
       "      <td>13</td>\n",
       "      <td>849648</td>\n",
       "    </tr>\n",
       "    <tr>\n",
       "      <th>1</th>\n",
       "      <td>REP</td>\n",
       "      <td>Alabama</td>\n",
       "      <td>54</td>\n",
       "      <td>1441168</td>\n",
       "    </tr>\n",
       "    <tr>\n",
       "      <th>2</th>\n",
       "      <td>REP</td>\n",
       "      <td>Alaska</td>\n",
       "      <td>20</td>\n",
       "      <td>189892</td>\n",
       "    </tr>\n",
       "    <tr>\n",
       "      <th>3</th>\n",
       "      <td>DEM</td>\n",
       "      <td>Alaska</td>\n",
       "      <td>17</td>\n",
       "      <td>153405</td>\n",
       "    </tr>\n",
       "    <tr>\n",
       "      <th>4</th>\n",
       "      <td>DEM</td>\n",
       "      <td>Arizona</td>\n",
       "      <td>5</td>\n",
       "      <td>1672143</td>\n",
       "    </tr>\n",
       "    <tr>\n",
       "      <th>5</th>\n",
       "      <td>REP</td>\n",
       "      <td>Arizona</td>\n",
       "      <td>10</td>\n",
       "      <td>1661686</td>\n",
       "    </tr>\n",
       "    <tr>\n",
       "      <th>6</th>\n",
       "      <td>REP</td>\n",
       "      <td>Arkansas</td>\n",
       "      <td>67</td>\n",
       "      <td>760647</td>\n",
       "    </tr>\n",
       "    <tr>\n",
       "      <th>7</th>\n",
       "      <td>DEM</td>\n",
       "      <td>Arkansas</td>\n",
       "      <td>8</td>\n",
       "      <td>423932</td>\n",
       "    </tr>\n",
       "    <tr>\n",
       "      <th>8</th>\n",
       "      <td>DEM</td>\n",
       "      <td>California</td>\n",
       "      <td>35</td>\n",
       "      <td>11109764</td>\n",
       "    </tr>\n",
       "    <tr>\n",
       "      <th>9</th>\n",
       "      <td>REP</td>\n",
       "      <td>California</td>\n",
       "      <td>23</td>\n",
       "      <td>6005961</td>\n",
       "    </tr>\n",
       "  </tbody>\n",
       "</table>\n",
       "</div>"
      ],
      "text/plain": [
       "  party       state  won counties  total_votes\n",
       "0   DEM     Alabama            13       849648\n",
       "1   REP     Alabama            54      1441168\n",
       "2   REP      Alaska            20       189892\n",
       "3   DEM      Alaska            17       153405\n",
       "4   DEM     Arizona             5      1672143\n",
       "5   REP     Arizona            10      1661686\n",
       "6   REP    Arkansas            67       760647\n",
       "7   DEM    Arkansas             8       423932\n",
       "8   DEM  California            35     11109764\n",
       "9   REP  California            23      6005961"
      ]
     },
     "execution_count": 17,
     "metadata": {},
     "output_type": "execute_result"
    }
   ],
   "source": [
    "# Group the dataset by party and states, \n",
    "#and sum up total counties they won in each state and total votes they got. \n",
    "df_countities = df_president[['party','won', \"state\", \"total_votes\"]]\\\n",
    ".groupby(['party', \"state\"],\\\n",
    "as_index = False).sum().sort_values(by='state', ascending = True)\n",
    "df_countities = df_countities\\\n",
    ".rename(columns = {\"won\": \"won counties\"})\n",
    "\n",
    "# Extract the subset from the dataset; accessing rows with REP and DEM parties.\n",
    "df_countities = df_countities[df_countities\\\n",
    "                              .party.isin([\"REP\",\"DEM\"]) == True]\\\n",
    ".reset_index(drop = True)\n",
    "\n",
    "df_countities.head(10)"
   ]
  },
  {
   "cell_type": "code",
   "execution_count": 18,
   "id": "8724a95b-aae1-41ab-a6db-342dd5a42234",
   "metadata": {
    "tags": []
   },
   "outputs": [
    {
     "data": {
      "image/png": "[encoded data removed]",
      "text/plain": [
       "<Figure size 1008x504 with 1 Axes>"
      ]
     },
     "metadata": {
      "needs_background": "light"
     },
     "output_type": "display_data"
    }
   ],
   "source": [
    "# Extract \"won counties\" for each party into the list.\n",
    "rep = list(df_countities\n",
    "           \\.loc[df_countities['party'] == \"REP\"][\"won counties\"])\n",
    "dem = list(df_countities\n",
    "           \\.loc[df_countities['party'] == \"DEM\"][\"won counties\"])\n",
    "\n",
    "# Extract unique \"state\" strings into the list.\n",
    "x = list(df_countities[\"state\"].unique())\n",
    "X_axis = np.arange(len(x))\n",
    "\n",
    "# Plot the barchart of \"won counties\" for each candidate. \n",
    "plt.figure(figsize = (14,7))\n",
    "plt.bar(x, rep, 0.4, label = 'Republicans', color = \"#FF0000\")\n",
    "plt.bar(x, dem, 0.4, label = 'Democrats', color = \"#0015BC\")\n",
    "plt.xticks(X_axis, x)\n",
    "plt.ylabel(\"Number of countities won\")\n",
    "plt.title(\"Number of counties won by each party in each state\",\\\n",
    "          fontweight = 'bold', fontsize = 20)\n",
    "plt.legend()\n",
    "plt.xticks(rotation=90)\n",
    "\n",
    "plt.show()"
   ]
  },
  {
   "cell_type": "code",
   "execution_count": 19,
   "id": "cf213ac9-d812-4a8f-af1d-800c746ecc2a",
   "metadata": {},
   "outputs": [
    {
     "data": {
      "image/png": "[encoded data removed]",
      "text/plain": [
       "<Figure size 1008x504 with 1 Axes>"
      ]
     },
     "metadata": {
      "needs_background": "light"
     },
     "output_type": "display_data"
    }
   ],
   "source": [
    "pop = df_president_enrich[[\"state\", \"population\"]]\n",
    "\\.groupby(\"state\", as_index = False).sum()\n",
    "\n",
    "plt.figure(1, figsize = (14,7))\n",
    "plt.bar(pop['state'], pop['population'], color=['#f0e68c'])\n",
    "plt.ylabel(\"Population\")\n",
    "plt.title(\"Total population: States\",\\\n",
    "          fontweight = 'bold',\\\n",
    "          fontsize = 20)\n",
    "plt.xticks(rotation=90)\n",
    "plt.rc('axes', axisbelow = True)"
   ]
  },
  {
   "cell_type": "code",
   "execution_count": 21,
   "id": "6a2bd8b6-2d25-4e71-9b1f-ccce85c0dbb4",
   "metadata": {},
   "outputs": [],
   "source": [
    "# Extract the subset from the data set; accessing rows with REP and DEM parties.\n",
    "df_rd = df_president[df_president.party.isin([\"REP\",\"DEM\"]) == True].reset_index(drop = True)\n",
    "# Merge the df_dj subset with additional enriched dataset.\n",
    "df_rd = df_rd.merge(df_president_enrich[[\"state\", \"county\", \"population\",\"female_percentage\",\"median_age\"]])    "
   ]
  },
  {
   "cell_type": "code",
   "execution_count": 22,
   "id": "1627f3c0-3b27-4f4f-bd89-bc4e799dd885",
   "metadata": {},
   "outputs": [],
   "source": [
    "# Creating two different DataFrames for eqch candidate.\n",
    "df_rep = df_rd.loc[df_rd.party == \"REP\"]\n",
    "df_dem = df_rd.loc[df_rd.party == \"DEM\"]"
   ]
  },
  {
   "cell_type": "code",
   "execution_count": 23,
   "id": "5c6348ac-47bd-4304-80c5-996ba84bfb26",
   "metadata": {},
   "outputs": [
    {
     "data": {
      "image/png": "[encoded data removed]",
      "text/plain": [
       "<Figure size 1008x504 with 2 Axes>"
      ]
     },
     "metadata": {
      "needs_background": "light"
     },
     "output_type": "display_data"
    }
   ],
   "source": [
    "# Plot scatterplot won county with respect to population.\n",
    "# Create two plot with 1 row and 2 columns.\n",
    "fig, (ax1, ax2) = plt.subplots(1, 2, figsize = (14,7))\n",
    "\n",
    "# Add scatterplots\n",
    "ax1.scatter(df_rep['population'] \\\n",
    "            ,df_rep['total_votes']\\\n",
    "            , color=['#FF000099'])\n",
    "ax2.scatter(df_dem['population']\\\n",
    "            ,df_dem['total_votes'] , color=['#0015BC99'])\n",
    "ax1.title.set_text(\"Republicans\")\n",
    "ax2.title.set_text(\"Democrats\")\n",
    "ax1.set_xlabel(\"Population\")\n",
    "ax2.set_xlabel(\"Population\")\n",
    "ax1.set_ylabel(\"County Won (Win = 1)\")\n",
    "ax1.grid(alpha = 0.5)\n",
    "ax2.grid(alpha = 0.5)"
   ]
  },
  {
   "cell_type": "markdown",
   "id": "3b5015c0-6c67-4d5a-8ac5-e396ed86830d",
   "metadata": {},
   "source": [
    "Scatterplot above suggests that most votes got Democratic Party. "
   ]
  },
  {
   "cell_type": "code",
   "execution_count": 24,
   "id": "8fcd6bad-57ef-4239-9663-e3b4029dc13a",
   "metadata": {},
   "outputs": [],
   "source": [
    "# Lock observations to counties where candidate won. \n",
    "df_rep = df_rep.loc[df_rep.won == True]\n",
    "df_dem = df_dem.loc[df_dem.won == True]"
   ]
  },
  {
   "cell_type": "code",
   "execution_count": 25,
   "id": "fe694e2e-ac77-4608-98cd-446588b1b9a2",
   "metadata": {},
   "outputs": [
    {
     "data": {
      "image/png": "[encoded data removed]",
      "text/plain": [
       "<Figure size 1008x504 with 1 Axes>"
      ]
     },
     "metadata": {
      "needs_background": "light"
     },
     "output_type": "display_data"
    }
   ],
   "source": [
    "# Plot histogram of median age for REP party (county level). \n",
    "plt.figure(figsize = (14,7))\n",
    "plt.hist(df_rep['median_age'], bins = 60, color=['#FF000099'])\n",
    "plt.xlabel(\"Median Age by County\")\n",
    "plt.ylabel(\"Frequency\")\n",
    "plt.title(\"Republicans: County Median Age\", fontsize = 20, fontweight = 'bold')\n",
    "plt.grid(alpha = 0.5)"
   ]
  },
  {
   "cell_type": "markdown",
   "id": "972372b9-71d1-4bcd-be5c-8508cffc01fa",
   "metadata": {},
   "source": [
    "The histogram above presents each county median age where Repuplicans won. We can observe the average value is around 41 years old and distribution has short tails, implying most of the observations lie around the mean. "
   ]
  },
  {
   "cell_type": "code",
   "execution_count": 26,
   "id": "b73f089e-14cf-453c-9294-88428b01ed0e",
   "metadata": {},
   "outputs": [
    {
     "data": {
      "image/png": "[encoded data removed]",
      "text/plain": [
       "<Figure size 1008x504 with 1 Axes>"
      ]
     },
     "metadata": {
      "needs_background": "light"
     },
     "output_type": "display_data"
    }
   ],
   "source": [
    "# Plot histogram of median age for DEM party (county level).  \n",
    "plt.figure(figsize = (14,7))\n",
    "plt.hist(df_dem['median_age'], bins = 60,  color=['#0015BC99'])\n",
    "plt.xlabel(\"Median Age by County\")\n",
    "plt.ylabel(\"Frequency\")\n",
    "plt.title(\"Democrats: County Median Age\", fontsize = 20, fontweight = 'bold')\n",
    "plt.grid(alpha = 0.5)"
   ]
  },
  {
   "cell_type": "markdown",
   "id": "db369e1d-1ac2-4760-8f21-0f89b839c1e7",
   "metadata": {},
   "source": [
    "The histogram above presents each county's median age where Democrats won. We can observe the average value is around 36 years old, and distribution has long tails, implying that distribution includes outliers. \n",
    "\n",
    "Two histograms shown above suggests that Republican voters are might likely to be older, while Democrat are might likely be younger.  "
   ]
  },
  {
   "cell_type": "code",
   "execution_count": 27,
   "id": "daf9c416-936d-4df0-a30b-5d6a0c35f1f1",
   "metadata": {},
   "outputs": [
    {
     "data": {
      "image/png": "[encoded data removed]",
      "text/plain": [
       "<Figure size 1008x504 with 1 Axes>"
      ]
     },
     "metadata": {
      "needs_background": "light"
     },
     "output_type": "display_data"
    }
   ],
   "source": [
    "# Plot histogram of female percentage of county population for REP party.\n",
    "plt.figure(figsize = (14,7))\n",
    "plt.hist(df_rep['female_percentage'], bins = 80, color=['#FF000099'])\n",
    "plt.xlabel(\"Population: Female (% of county population)\")\n",
    "plt.ylabel(\"Frequency\")\n",
    "plt.xlim(0)\n",
    "plt.title(\"Republicans: County Female Population (percentage)\", fontsize = 20, fontweight = 'bold')\n",
    "plt.grid(alpha = 0.5)"
   ]
  },
  {
   "cell_type": "markdown",
   "id": "6b890532-55ca-407c-8f70-51ca06c83f4c",
   "metadata": {},
   "source": [
    "The histogram above presents each county female population percentage where Repuplicans won. We can observe the average value is around 50 percent and distribution has long tails, implying that distribution includes outliers. "
   ]
  },
  {
   "cell_type": "code",
   "execution_count": 29,
   "id": "0e65cb52-c038-4521-b8ce-d6220a63fe4f",
   "metadata": {},
   "outputs": [
    {
     "data": {
      "image/png": "[encoded data removed]",
      "text/plain": [
       "<Figure size 1008x504 with 1 Axes>"
      ]
     },
     "metadata": {
      "needs_background": "light"
     },
     "output_type": "display_data"
    }
   ],
   "source": [
    "# Plot histogram of female percentage of county population for DEM party.\n",
    "plt.figure(figsize = (14,7))\n",
    "plt.hist(df_dem['female_percentage'], bins = 80, color=['#0015BC99'])\n",
    "plt.xlabel(\"Population: Female (% of county population)\")\n",
    "plt.ylabel(\"Frequency\")\n",
    "plt.xlim(0)\n",
    "plt.title(\"Democrats: County Female Population (percentage)\", fontsize = 20, fontweight = 'bold')\n",
    "plt.grid(alpha = 0.5)"
   ]
  },
  {
   "cell_type": "markdown",
   "id": "d479b2be-a433-46c0-9683-b3de201edd5b",
   "metadata": {},
   "source": [
    "The histogram above presents each county female population percentage where Democrats won. We can observe the average value is around 52 percent and distribution has short tails, implying most of the observations lie around the mean. \n",
    "\n",
    "\n",
    "Two histograms shown above suggests that Republican voters are might likely to be males, while Democrat are might likely be females.  "
   ]
  },
  {
   "cell_type": "markdown",
   "id": "3af29966-dd81-44eb-ae51-69f62b363053",
   "metadata": {
    "tags": []
   },
   "source": [
    "<h2><center> Summary </center></h2>\n",
    "\n",
    "---"
   ]
  },
  {
   "cell_type": "markdown",
   "id": "c0706dd7-e816-45b1-845e-d8b01d4aa690",
   "metadata": {},
   "source": [
    "The report examined preliminary counties' characteristics that influence the total votes they get during the United States election of 2020. The Data analysis suggests that, at this stage, most of the variables do not provide any additional information, suggesting that the supplementary counties' characteristics data be used. The project suggests that the median age for counties where Republicans won is higher than Democrats, Republican Part won most of the counties with a relatively small population, and females are might likely to vote for Democrats than Republicans. \n",
    "\n",
    "***However, the additional datasets required to make more comprehensive analysis***"
   ]
  },
  {
   "cell_type": "markdown",
   "id": "9536ebb9-4198-460a-98ff-b9de9b4282ba",
   "metadata": {},
   "source": [
    "<h2><center> Other Data Sources </center></h2>\n",
    "\n",
    "---"
   ]
  },
  {
   "cell_type": "code",
   "execution_count": 829,
   "id": "368dc6e9-8cf9-410a-b385-8535e926d55d",
   "metadata": {},
   "outputs": [
    {
     "data": {
      "text/html": [
       "<div>\n",
       "<style scoped>\n",
       "    .dataframe tbody tr th:only-of-type {\n",
       "        vertical-align: middle;\n",
       "    }\n",
       "\n",
       "    .dataframe tbody tr th {\n",
       "        vertical-align: top;\n",
       "    }\n",
       "\n",
       "    .dataframe thead th {\n",
       "        text-align: right;\n",
       "    }\n",
       "</style>\n",
       "<table border=\"1\" class=\"dataframe\">\n",
       "  <thead>\n",
       "    <tr style=\"text-align: right;\">\n",
       "      <th></th>\n",
       "      <th>Unnamed: 0</th>\n",
       "      <th>state</th>\n",
       "      <th>county</th>\n",
       "      <th>candidate</th>\n",
       "      <th>party</th>\n",
       "      <th>total_votes</th>\n",
       "      <th>won</th>\n",
       "      <th>fips</th>\n",
       "      <th>state_code</th>\n",
       "      <th>male</th>\n",
       "      <th>female</th>\n",
       "      <th>median_age</th>\n",
       "      <th>population</th>\n",
       "      <th>female_percentage</th>\n",
       "      <th>lat</th>\n",
       "      <th>long</th>\n",
       "      <th>color</th>\n",
       "    </tr>\n",
       "  </thead>\n",
       "  <tbody>\n",
       "    <tr>\n",
       "      <th>2799</th>\n",
       "      <td>16658</td>\n",
       "      <td>Alabama</td>\n",
       "      <td>Lawrence County</td>\n",
       "      <td>Donald Trump</td>\n",
       "      <td>REP</td>\n",
       "      <td>12322</td>\n",
       "      <td>True</td>\n",
       "      <td>1079</td>\n",
       "      <td>AL</td>\n",
       "      <td>16003</td>\n",
       "      <td>17168</td>\n",
       "      <td>42.2</td>\n",
       "      <td>33171</td>\n",
       "      <td>51.756052</td>\n",
       "      <td>34.521678</td>\n",
       "      <td>-87.310991</td>\n",
       "      <td>red</td>\n",
       "    </tr>\n",
       "    <tr>\n",
       "      <th>2802</th>\n",
       "      <td>16670</td>\n",
       "      <td>Alabama</td>\n",
       "      <td>Lowndes County</td>\n",
       "      <td>Joe Biden</td>\n",
       "      <td>DEM</td>\n",
       "      <td>4972</td>\n",
       "      <td>True</td>\n",
       "      <td>1085</td>\n",
       "      <td>AL</td>\n",
       "      <td>4830</td>\n",
       "      <td>5406</td>\n",
       "      <td>41.6</td>\n",
       "      <td>10236</td>\n",
       "      <td>52.813599</td>\n",
       "      <td>32.154746</td>\n",
       "      <td>-86.650108</td>\n",
       "      <td>blue</td>\n",
       "    </tr>\n",
       "    <tr>\n",
       "      <th>2803</th>\n",
       "      <td>16674</td>\n",
       "      <td>Alabama</td>\n",
       "      <td>Macon County</td>\n",
       "      <td>Joe Biden</td>\n",
       "      <td>DEM</td>\n",
       "      <td>7108</td>\n",
       "      <td>True</td>\n",
       "      <td>1087</td>\n",
       "      <td>AL</td>\n",
       "      <td>8790</td>\n",
       "      <td>10264</td>\n",
       "      <td>38.0</td>\n",
       "      <td>19054</td>\n",
       "      <td>53.867954</td>\n",
       "      <td>32.385939</td>\n",
       "      <td>-85.692656</td>\n",
       "      <td>blue</td>\n",
       "    </tr>\n",
       "    <tr>\n",
       "      <th>2804</th>\n",
       "      <td>16678</td>\n",
       "      <td>Alabama</td>\n",
       "      <td>Madison County</td>\n",
       "      <td>Donald Trump</td>\n",
       "      <td>REP</td>\n",
       "      <td>102780</td>\n",
       "      <td>True</td>\n",
       "      <td>1089</td>\n",
       "      <td>AL</td>\n",
       "      <td>174665</td>\n",
       "      <td>182895</td>\n",
       "      <td>38.5</td>\n",
       "      <td>357560</td>\n",
       "      <td>51.150856</td>\n",
       "      <td>34.763090</td>\n",
       "      <td>-86.550225</td>\n",
       "      <td>red</td>\n",
       "    </tr>\n",
       "    <tr>\n",
       "      <th>2805</th>\n",
       "      <td>16682</td>\n",
       "      <td>Alabama</td>\n",
       "      <td>Marengo County</td>\n",
       "      <td>Joe Biden</td>\n",
       "      <td>DEM</td>\n",
       "      <td>5488</td>\n",
       "      <td>True</td>\n",
       "      <td>1091</td>\n",
       "      <td>AL</td>\n",
       "      <td>9446</td>\n",
       "      <td>10092</td>\n",
       "      <td>42.7</td>\n",
       "      <td>19538</td>\n",
       "      <td>51.653189</td>\n",
       "      <td>32.247665</td>\n",
       "      <td>-87.789531</td>\n",
       "      <td>blue</td>\n",
       "    </tr>\n",
       "    <tr>\n",
       "      <th>...</th>\n",
       "      <td>...</td>\n",
       "      <td>...</td>\n",
       "      <td>...</td>\n",
       "      <td>...</td>\n",
       "      <td>...</td>\n",
       "      <td>...</td>\n",
       "      <td>...</td>\n",
       "      <td>...</td>\n",
       "      <td>...</td>\n",
       "      <td>...</td>\n",
       "      <td>...</td>\n",
       "      <td>...</td>\n",
       "      <td>...</td>\n",
       "      <td>...</td>\n",
       "      <td>...</td>\n",
       "      <td>...</td>\n",
       "      <td>...</td>\n",
       "    </tr>\n",
       "    <tr>\n",
       "      <th>2746</th>\n",
       "      <td>16426</td>\n",
       "      <td>Wyoming</td>\n",
       "      <td>Carbon County</td>\n",
       "      <td>Donald Trump</td>\n",
       "      <td>REP</td>\n",
       "      <td>5014</td>\n",
       "      <td>True</td>\n",
       "      <td>56007</td>\n",
       "      <td>WY</td>\n",
       "      <td>8332</td>\n",
       "      <td>7145</td>\n",
       "      <td>38.0</td>\n",
       "      <td>15477</td>\n",
       "      <td>46.165278</td>\n",
       "      <td>41.694360</td>\n",
       "      <td>-106.930667</td>\n",
       "      <td>red</td>\n",
       "    </tr>\n",
       "    <tr>\n",
       "      <th>2745</th>\n",
       "      <td>16421</td>\n",
       "      <td>Wyoming</td>\n",
       "      <td>Campbell County</td>\n",
       "      <td>Donald Trump</td>\n",
       "      <td>REP</td>\n",
       "      <td>16975</td>\n",
       "      <td>True</td>\n",
       "      <td>56005</td>\n",
       "      <td>WY</td>\n",
       "      <td>24559</td>\n",
       "      <td>23149</td>\n",
       "      <td>33.5</td>\n",
       "      <td>47708</td>\n",
       "      <td>48.522260</td>\n",
       "      <td>44.248188</td>\n",
       "      <td>-105.548208</td>\n",
       "      <td>red</td>\n",
       "    </tr>\n",
       "    <tr>\n",
       "      <th>2744</th>\n",
       "      <td>16416</td>\n",
       "      <td>Wyoming</td>\n",
       "      <td>Big Horn County</td>\n",
       "      <td>Donald Trump</td>\n",
       "      <td>REP</td>\n",
       "      <td>4806</td>\n",
       "      <td>True</td>\n",
       "      <td>56003</td>\n",
       "      <td>WY</td>\n",
       "      <td>6033</td>\n",
       "      <td>5868</td>\n",
       "      <td>41.3</td>\n",
       "      <td>11901</td>\n",
       "      <td>49.306781</td>\n",
       "      <td>44.526690</td>\n",
       "      <td>-107.995183</td>\n",
       "      <td>red</td>\n",
       "    </tr>\n",
       "    <tr>\n",
       "      <th>2762</th>\n",
       "      <td>16506</td>\n",
       "      <td>Wyoming</td>\n",
       "      <td>Teton County</td>\n",
       "      <td>Joe Biden</td>\n",
       "      <td>DEM</td>\n",
       "      <td>9848</td>\n",
       "      <td>True</td>\n",
       "      <td>56039</td>\n",
       "      <td>WY</td>\n",
       "      <td>11911</td>\n",
       "      <td>11148</td>\n",
       "      <td>39.3</td>\n",
       "      <td>23059</td>\n",
       "      <td>48.345548</td>\n",
       "      <td>43.934651</td>\n",
       "      <td>-110.589818</td>\n",
       "      <td>blue</td>\n",
       "    </tr>\n",
       "    <tr>\n",
       "      <th>2752</th>\n",
       "      <td>16456</td>\n",
       "      <td>Wyoming</td>\n",
       "      <td>Johnson County</td>\n",
       "      <td>Donald Trump</td>\n",
       "      <td>REP</td>\n",
       "      <td>3881</td>\n",
       "      <td>True</td>\n",
       "      <td>56019</td>\n",
       "      <td>WY</td>\n",
       "      <td>4477</td>\n",
       "      <td>4038</td>\n",
       "      <td>45.5</td>\n",
       "      <td>8515</td>\n",
       "      <td>47.422196</td>\n",
       "      <td>44.038799</td>\n",
       "      <td>-106.584673</td>\n",
       "      <td>red</td>\n",
       "    </tr>\n",
       "  </tbody>\n",
       "</table>\n",
       "<p>3045 rows × 17 columns</p>\n",
       "</div>"
      ],
      "text/plain": [
       "      Unnamed: 0    state           county     candidate party  total_votes  \\\n",
       "2799       16658  Alabama  Lawrence County  Donald Trump   REP        12322   \n",
       "2802       16670  Alabama   Lowndes County     Joe Biden   DEM         4972   \n",
       "2803       16674  Alabama     Macon County     Joe Biden   DEM         7108   \n",
       "2804       16678  Alabama   Madison County  Donald Trump   REP       102780   \n",
       "2805       16682  Alabama   Marengo County     Joe Biden   DEM         5488   \n",
       "...          ...      ...              ...           ...   ...          ...   \n",
       "2746       16426  Wyoming    Carbon County  Donald Trump   REP         5014   \n",
       "2745       16421  Wyoming  Campbell County  Donald Trump   REP        16975   \n",
       "2744       16416  Wyoming  Big Horn County  Donald Trump   REP         4806   \n",
       "2762       16506  Wyoming     Teton County     Joe Biden   DEM         9848   \n",
       "2752       16456  Wyoming   Johnson County  Donald Trump   REP         3881   \n",
       "\n",
       "       won   fips state_code    male  female  median_age  population  \\\n",
       "2799  True   1079         AL   16003   17168        42.2       33171   \n",
       "2802  True   1085         AL    4830    5406        41.6       10236   \n",
       "2803  True   1087         AL    8790   10264        38.0       19054   \n",
       "2804  True   1089         AL  174665  182895        38.5      357560   \n",
       "2805  True   1091         AL    9446   10092        42.7       19538   \n",
       "...    ...    ...        ...     ...     ...         ...         ...   \n",
       "2746  True  56007         WY    8332    7145        38.0       15477   \n",
       "2745  True  56005         WY   24559   23149        33.5       47708   \n",
       "2744  True  56003         WY    6033    5868        41.3       11901   \n",
       "2762  True  56039         WY   11911   11148        39.3       23059   \n",
       "2752  True  56019         WY    4477    4038        45.5        8515   \n",
       "\n",
       "      female_percentage        lat        long color  \n",
       "2799          51.756052  34.521678  -87.310991   red  \n",
       "2802          52.813599  32.154746  -86.650108  blue  \n",
       "2803          53.867954  32.385939  -85.692656  blue  \n",
       "2804          51.150856  34.763090  -86.550225   red  \n",
       "2805          51.653189  32.247665  -87.789531  blue  \n",
       "...                 ...        ...         ...   ...  \n",
       "2746          46.165278  41.694360 -106.930667   red  \n",
       "2745          48.522260  44.248188 -105.548208   red  \n",
       "2744          49.306781  44.526690 -107.995183   red  \n",
       "2762          48.345548  43.934651 -110.589818  blue  \n",
       "2752          47.422196  44.038799 -106.584673   red  \n",
       "\n",
       "[3045 rows x 17 columns]"
      ]
     },
     "execution_count": 829,
     "metadata": {},
     "output_type": "execute_result"
    }
   ],
   "source": [
    "df_president_enrich"
   ]
  },
  {
   "cell_type": "markdown",
   "id": "aa0a4ecc-8d09-4831-a684-971b3d0b3110",
   "metadata": {},
   "source": [
    "We included additional dataset since main dataset does not include any independent variable that might exlpaine dependent total votes variable. The additional dataset which where included in the analysis contains a smaller amount of observations since it includes only the won counties of each party; however, it provides basis charachteristics of county, total poluation and female percentage."
   ]
  }
 ],
 "metadata": {
  "kernelspec": {
   "display_name": "Python 3 (ipykernel)",
   "language": "python",
   "name": "python3"
  },
  "language_info": {
   "codemirror_mode": {
    "name": "ipython",
    "version": 3
   },
   "file_extension": ".py",
   "mimetype": "text/x-python",
   "name": "python",
   "nbconvert_exporter": "python",
   "pygments_lexer": "ipython3",
   "version": "3.9.7"
  }
 },
 "nbformat": 4,
 "nbformat_minor": 5
}
